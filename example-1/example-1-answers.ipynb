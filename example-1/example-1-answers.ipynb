{
 "cells": [
  {
   "cell_type": "markdown",
   "metadata": {},
   "source": [
    "# Flipping coins with Professor Mittens"
   ]
  },
  {
   "cell_type": "markdown",
   "metadata": {},
   "source": [
    "## Outline and housekeeping\n",
    "\n",
    "The material in this notebook covers four topics: binomial distributions, the central limit theorem, outliers in data and invalid model assumptions. _You will have approximately 15 minutes to work through each part, after which we will go through the answers together._ Exercises marked as \"extension\" may be more challenging, so you can skip them on a first reading if you feel they will take too much time.\n",
    "\n",
    "This notebook is available on github [here](https://github.com/aezarebski/aas-extended-examples). If you find errors or would like to suggest an improvement, feel free to create an issue."
   ]
  },
  {
   "cell_type": "markdown",
   "metadata": {},
   "source": [
    "## Introduction\n",
    "\n",
    "In this lab we will look at the binomial distribution, central limit theorem, and analyse two data sets collected by [Professor Mittens](https://en.wikipedia.org/wiki/Mittens_(cat)) helping him interrogate the bais in the results of coin flips. Some of the questions are open-ended by design. Partial solutions will be distributed at the end of the session. The imports below are used in the provided solutions, consider these suggestions, not constraints. The answers use `altair` but you can use any plotting library you are comfortable with."
   ]
  },
  {
   "cell_type": "code",
   "execution_count": 3,
   "metadata": {},
   "outputs": [],
   "source": [
    "import pandas as pd\n",
    "from scipy import stats\n",
    "import altair as alt\n",
    "from typing import List, Any, Tuple\n",
    "from functools import reduce\n",
    "from itertools import repeat\n",
    "import math as math"
   ]
  },
  {
   "cell_type": "markdown",
   "metadata": {},
   "source": [
    "## Parameter estimation of the binomial distribution\n",
    "\n",
    "Bernoulli and binomial random variables are the typical way to represent the outcome of coin flips. Below we consider estimates of the probability of heads based on a known number of successes in a given number of trials and also a confidence interval (CI) for this based on the Wald method will be given.\n",
    "\n",
    "Let $X$ be a binomial random variable (RV) which results from the number of heads when a coin is flipped $n$ times and the probability of coming up heads is $p$. For the time being we will assume that $n$ is know. The expected value of $X$ is $np$. So a simple way to estimate $p$ is to divide the number of heads, $X$, by the number of flips, $n$. This gives the estimate \n",
    "\n",
    "$$\n",
    "\\hat{p} = X / n.\n",
    "$$\n",
    "\n",
    "It turns out that this is a very sensible thing to do. The resulting estimate is called the maximum likelihood estimate (MLE) of $p$. It is also the result that one obtains via [the method of moments](https://en.wikipedia.org/wiki/Method_of_moments_(statistics)).\n",
    "\n",
    "Given an estimator though, we want to know how confident we are in the estimate it produces. Here we will use the Wald method to get the $95\\%$ CI. It is a very simple method but is acceptable when we have a fair bit of data. The estimated standard error of $\\hat{p}$ is $\\sqrt{\\hat{p}(1-\\hat{p})/n}$, so the Wald CI is given by\n",
    "\n",
    "$$\n",
    "\\hat{p} \\pm z \\sqrt{\\frac{\\hat{p}(1-\\hat{p})}{n}}\n",
    "$$\n",
    "\n",
    "where $z$ is the appropriate quantile of the standard normal distribution. In the case of a $95\\%$ distribution this is just $1.96$.\n",
    "\n",
    "This is stated on the [wikipedia](https://en.wikipedia.org/wiki/Binomial_distribution#Estimation_of_parameters) but there is also a reasonably clear description in [All of Statistics](https://link.springer.com/book/10.1007/978-0-387-21736-9) which you can get via SOLO. You can also find reasonable treatments of Wald CIs in both of those resources."
   ]
  },
  {
   "cell_type": "markdown",
   "metadata": {},
   "source": [
    "### Exercise 1 part I (Extension)\n",
    "\n",
    "Professor Mittens is not very familiar with the binomial distribution and wants you to justify the estimator used above. Convince yourself that the estimate given above, $X/n$, is a sensible choice. Prove that it is either the MLE or the method of moments estimator for $p$. State the limitations on the estimator we are using for the CI."
   ]
  },
  {
   "cell_type": "markdown",
   "metadata": {},
   "source": [
    "### Partial answer\n",
    "\n",
    "$\\bar{X} = p n$ solve for $p$ gives su the estimate that $p = \\bar{X} / n$\n",
    "- Observe that the expected number of heads is $pn$ and solve for $p$.\n",
    "- Consider each flip as a Bernoulli trial and optimise the resulting log-likelihood function\n",
    "- The Wald estimate assumes you have enough data to justify an asymptotic solution so is unlikely to be accurate for small datasets.\n",
    "\n",
    "multiply the probability density function to infinity, then take the log so it's a sum, then differentiate and set equal to 0 and solve for p hat"
   ]
  },
  {
   "cell_type": "markdown",
   "metadata": {},
   "source": [
    "### Exercise 1 part II\n",
    "\n",
    "Implement a function called `wald_estimate_and_ci` which takes two arguments: `num_trials` which is $n$ in the description above, and `num_success` which is $X$ above. The function should return `(p_hat,(wald_lower,wald_upper))` where `p_hat` is $\\hat{p}$ and `wald_x` are the limits on the $95\\%$ CI using the Wald method."
   ]
  },
  {
   "cell_type": "code",
   "execution_count": 4,
   "metadata": {},
   "outputs": [],
   "source": [
    "CI = Tuple[float,float]\n",
    "EstimateAndCI = Tuple[float,CI]\n",
    "\n",
    "def wald_estimate_and_ci(num_trials: int, num_success: int) -> EstimateAndCI:\n",
    "    p_hat = num_success / num_trials\n",
    "    z = 1.96\n",
    "    delta = z * math.sqrt(p_hat * (1 - p_hat) / num_trials)\n",
    "    return (p_hat,(p_hat - delta, p_hat + delta))"
   ]
  },
  {
   "cell_type": "markdown",
   "metadata": {},
   "source": [
    "### Exercise 2 part I\n",
    "\n",
    "Look up how to simulate a random variable from a binomial distribution (it tells you [here](https://docs.scipy.org/doc/scipy/reference/generated/scipy.stats.binom.html#scipy.stats.binom) if you want to use `scipy`). Then simulate a binomial random variable with $n=100$ and $p=0.6$. Then use the value and the `wald_estimate_and_ci` function to see how well you can estimate $p$. Write a couple of sentences to explain this.\n",
    "\n",
    "### Exercise 2 part II\n",
    "\n",
    "Repeat the process about 100000 times and see what proportion of the CIs capture the true value of $p$. Is it what you expect? Write a couple of sentences to explain what you found."
   ]
  },
  {
   "cell_type": "code",
   "execution_count": 7,
   "metadata": {},
   "outputs": [
    {
     "data": {
      "text/plain": [
       "0.94921"
      ]
     },
     "execution_count": 7,
     "metadata": {},
     "output_type": "execute_result"
    }
   ],
   "source": [
    "rand_xs = stats.binom.rvs(n = 100, p = 0.6, size = 100000)\n",
    "\n",
    "def ci_contains_value(ci: CI, p: float) -> bool:\n",
    "    lower,upper = ci\n",
    "    return lower < p and p < upper\n",
    "\n",
    "p_in_ci_bools = [ci_contains_value(wald_estimate_and_ci(100, x)[1], 0.6) for x in rand_xs]\n",
    "reduce(lambda a, b: a + 1 if b else a, p_in_ci_bools, 0) / 100000"
   ]
  },
  {
   "cell_type": "markdown",
   "metadata": {},
   "source": [
    "### Exercise 2 part III\n",
    "\n",
    "Are credible intervals and confidence intervals the same thing?"
   ]
  },
  {
   "cell_type": "markdown",
   "metadata": {},
   "source": [
    "### Partial answer\n",
    "\n",
    "No confidence intervals are talk about repeated experiments in frequentist statistics while credible intervals talk about posterior probability in Bayesian statistics."
   ]
  },
  {
   "cell_type": "markdown",
   "metadata": {},
   "source": [
    "## Central limit theorem\n",
    "\n",
    "The central limit theorem (CLT) tells us about the limiting distribution of the sample mean for distribution for an independent and identically distributed (IID) sample with a finite variance. It underpins many results in statistics and is important for reasoning about stochastic processes.\n",
    "\n",
    "### Exercise 3 part I (Extension)\n",
    "\n",
    "Professor Mittens *really* likes to sound fancy and use the name of important theorems. Write down a statement of the law of large numbers (LLN). Write down a statement of the central limit theorem. Make sure you understand what each of them tells you."
   ]
  },
  {
   "cell_type": "markdown",
   "metadata": {},
   "source": [
    "### Partial answer\n",
    "\n",
    "- $\\hat{X}$ converges to $\\mu$.\n",
    "- $\\sqrt{n}(\\hat{X} - \\mu) / \\sigma$ converges in distribution to the standard normal distribution as the sample size increases.\n",
    "- The LLN tells you what the limiting value is, the CLT tells you about how about the fluctuations."
   ]
  },
  {
   "cell_type": "markdown",
   "metadata": {},
   "source": [
    "### Exercise 3 part II\n",
    "\n",
    "To see that the distribution of the sample mean converges to a normal distribution we will do a simulation study and compare the results with a Q-Q plot to see if it looks normally distributed. This will also demonstrate how to construct a Q-Q plot from first principles, not that you really want to do that. Carry out the following steps:\n",
    "\n",
    "1. Write down the distribution of the sample mean given an IID sample of exponential random variables with rate $1/5$.\n",
    "2. Generate 500 sample means each based on a sample of 100 exponential random variables\n",
    "3. Make a visualisation of the distribution of the data (e.g., a KDE or histogram) and overlay the CLT approximation.\n",
    "4. Make a Q-Q plot to see if the sample means do appear to follow a normal distribution"
   ]
  },
  {
   "cell_type": "markdown",
   "metadata": {},
   "source": [
    "### Partial answer\n",
    "\n",
    "- The mean of the exponential distribution is 5. \n",
    "- The standard deviation of the exponential distribution is 5\n",
    "- The CLT tells us the limiting distribution for the sample mean is $N\\left(5,\\frac{5^2}{n}\\right)$"
   ]
  },
  {
   "cell_type": "code",
   "execution_count": 8,
   "metadata": {},
   "outputs": [],
   "source": [
    "sample_size = 200\n",
    "num_replicates = 500\n",
    "\n",
    "sample_means = [stats.expon.rvs(scale = 5, size = sample_size).mean() for _ in range(num_replicates)]\n",
    "\n",
    "plot_df = pd.DataFrame({\"sample_mean\": sample_means})\n",
    "\n",
    "mesh_size = 200\n",
    "x_vals = [0.02 * ix + 3 for ix in range(0,mesh_size)]\n",
    "\n",
    "clt_scale = 5 / math.sqrt(sample_size)\n",
    "\n",
    "clt_pdf = [stats.norm.pdf(x, loc = 5, scale = clt_scale) for x in x_vals]\n",
    "clt_df = pd.DataFrame({\"x\": x_vals, \"pdf\": clt_pdf})"
   ]
  },
  {
   "cell_type": "code",
   "execution_count": 9,
   "metadata": {},
   "outputs": [
    {
     "data": {
      "text/html": [
       "\n",
       "<div id=\"altair-viz-b9f99a9f6dc14b06872ab38fbae2afcf\"></div>\n",
       "<script type=\"text/javascript\">\n",
       "  (function(spec, embedOpt){\n",
       "    let outputDiv = document.currentScript.previousElementSibling;\n",
       "    if (outputDiv.id !== \"altair-viz-b9f99a9f6dc14b06872ab38fbae2afcf\") {\n",
       "      outputDiv = document.getElementById(\"altair-viz-b9f99a9f6dc14b06872ab38fbae2afcf\");\n",
       "    }\n",
       "    const paths = {\n",
       "      \"vega\": \"https://cdn.jsdelivr.net/npm//vega@5?noext\",\n",
       "      \"vega-lib\": \"https://cdn.jsdelivr.net/npm//vega-lib?noext\",\n",
       "      \"vega-lite\": \"https://cdn.jsdelivr.net/npm//vega-lite@4.8.1?noext\",\n",
       "      \"vega-embed\": \"https://cdn.jsdelivr.net/npm//vega-embed@6?noext\",\n",
       "    };\n",
       "\n",
       "    function loadScript(lib) {\n",
       "      return new Promise(function(resolve, reject) {\n",
       "        var s = document.createElement('script');\n",
       "        s.src = paths[lib];\n",
       "        s.async = true;\n",
       "        s.onload = () => resolve(paths[lib]);\n",
       "        s.onerror = () => reject(`Error loading script: ${paths[lib]}`);\n",
       "        document.getElementsByTagName(\"head\")[0].appendChild(s);\n",
       "      });\n",
       "    }\n",
       "\n",
       "    function showError(err) {\n",
       "      outputDiv.innerHTML = `<div class=\"error\" style=\"color:red;\">${err}</div>`;\n",
       "      throw err;\n",
       "    }\n",
       "\n",
       "    function displayChart(vegaEmbed) {\n",
       "      vegaEmbed(outputDiv, spec, embedOpt)\n",
       "        .catch(err => showError(`Javascript Error: ${err.message}<br>This usually means there's a typo in your chart specification. See the javascript console for the full traceback.`));\n",
       "    }\n",
       "\n",
       "    if(typeof define === \"function\" && define.amd) {\n",
       "      requirejs.config({paths});\n",
       "      require([\"vega-embed\"], displayChart, err => showError(`Error loading script: ${err.message}`));\n",
       "    } else if (typeof vegaEmbed === \"function\") {\n",
       "      displayChart(vegaEmbed);\n",
       "    } else {\n",
       "      loadScript(\"vega\")\n",
       "        .then(() => loadScript(\"vega-lite\"))\n",
       "        .then(() => loadScript(\"vega-embed\"))\n",
       "        .catch(showError)\n",
       "        .then(() => displayChart(vegaEmbed));\n",
       "    }\n",
       "  })({\"config\": {\"view\": {\"continuousWidth\": 400, \"continuousHeight\": 300}}, \"layer\": [{\"data\": {\"name\": \"data-ea805d75259e8aef6733eedcb2cfc7ae\"}, \"mark\": \"area\", \"encoding\": {\"x\": {\"type\": \"quantitative\", \"field\": \"sample_mean\", \"title\": \"Sample mean\"}, \"y\": {\"type\": \"quantitative\", \"field\": \"density\"}}, \"transform\": [{\"density\": \"sample_mean\", \"extent\": [3, 7], \"as\": [\"sample_mean\", \"density\"]}]}, {\"data\": {\"name\": \"data-7efce130a2d22c3176072cc84f76b386\"}, \"mark\": {\"type\": \"line\", \"color\": \"red\"}, \"encoding\": {\"x\": {\"type\": \"quantitative\", \"field\": \"x\"}, \"y\": {\"type\": \"quantitative\", \"field\": \"pdf\"}}}], \"$schema\": \"https://vega.github.io/schema/vega-lite/v4.8.1.json\", \"datasets\": {\"data-ea805d75259e8aef6733eedcb2cfc7ae\": [{\"sample_mean\": 4.541899418853274}, {\"sample_mean\": 5.968552320736477}, {\"sample_mean\": 5.111400461147639}, {\"sample_mean\": 4.60586848643261}, {\"sample_mean\": 5.129309803737143}, {\"sample_mean\": 4.717103022614494}, {\"sample_mean\": 5.502165098871896}, {\"sample_mean\": 5.3839700156908785}, {\"sample_mean\": 4.9191597080518}, {\"sample_mean\": 4.635531117992973}, {\"sample_mean\": 5.108266614146799}, {\"sample_mean\": 4.5073403546184}, {\"sample_mean\": 5.630651494571182}, {\"sample_mean\": 5.646172534330539}, {\"sample_mean\": 5.010858000835101}, {\"sample_mean\": 4.351135109325587}, {\"sample_mean\": 4.974494968840748}, {\"sample_mean\": 5.8050412937752665}, {\"sample_mean\": 5.4306025713081745}, {\"sample_mean\": 4.9693598253026945}, {\"sample_mean\": 5.119555575538254}, {\"sample_mean\": 4.9567413899175685}, {\"sample_mean\": 4.705265722357531}, {\"sample_mean\": 5.117120061524742}, {\"sample_mean\": 4.90425742963872}, {\"sample_mean\": 5.300172764081208}, {\"sample_mean\": 5.309809171441138}, {\"sample_mean\": 5.128513064023793}, {\"sample_mean\": 4.466120120386771}, {\"sample_mean\": 4.900139524327337}, {\"sample_mean\": 5.10369937131425}, {\"sample_mean\": 5.018923738544173}, {\"sample_mean\": 5.261368245849969}, {\"sample_mean\": 4.403639079235195}, {\"sample_mean\": 4.70367411267369}, {\"sample_mean\": 4.735302836843643}, {\"sample_mean\": 5.053738360940391}, {\"sample_mean\": 5.163299273801827}, {\"sample_mean\": 5.6265740596589}, {\"sample_mean\": 4.986777208033533}, {\"sample_mean\": 5.382694129602012}, {\"sample_mean\": 6.089343628549962}, {\"sample_mean\": 4.344456830499631}, {\"sample_mean\": 4.678352503602172}, {\"sample_mean\": 5.639296549246025}, {\"sample_mean\": 5.314948428563921}, {\"sample_mean\": 5.293926297117489}, {\"sample_mean\": 4.83887159467542}, {\"sample_mean\": 4.613656359509317}, {\"sample_mean\": 4.657098967391025}, {\"sample_mean\": 5.075396642697158}, {\"sample_mean\": 4.883178728679279}, {\"sample_mean\": 5.003691859144235}, {\"sample_mean\": 4.45725659346026}, {\"sample_mean\": 4.586288822368734}, {\"sample_mean\": 5.063900195632872}, {\"sample_mean\": 4.927372969339843}, {\"sample_mean\": 4.894900985999457}, {\"sample_mean\": 5.140939852386461}, {\"sample_mean\": 5.217061932066558}, {\"sample_mean\": 5.042465514896292}, {\"sample_mean\": 4.825710682729057}, {\"sample_mean\": 4.498475110037808}, {\"sample_mean\": 4.816248041514515}, {\"sample_mean\": 4.676854803963449}, {\"sample_mean\": 5.020235964993304}, {\"sample_mean\": 4.8467947356050525}, {\"sample_mean\": 4.739565150475928}, {\"sample_mean\": 4.414612388079357}, {\"sample_mean\": 5.469695580605464}, {\"sample_mean\": 4.617341573796594}, {\"sample_mean\": 4.823525671799554}, {\"sample_mean\": 5.030891329484243}, {\"sample_mean\": 4.395076054645509}, {\"sample_mean\": 4.644266021712742}, {\"sample_mean\": 5.265580078818889}, {\"sample_mean\": 4.676639823402439}, {\"sample_mean\": 5.11134484337901}, {\"sample_mean\": 5.069344425873712}, {\"sample_mean\": 4.641680796201078}, {\"sample_mean\": 4.942188002347084}, {\"sample_mean\": 4.410823874997665}, {\"sample_mean\": 5.264950424514645}, {\"sample_mean\": 5.021601246562512}, {\"sample_mean\": 4.52457633794353}, {\"sample_mean\": 4.548861003000579}, {\"sample_mean\": 5.66411695152123}, {\"sample_mean\": 5.658449204271936}, {\"sample_mean\": 4.712030129967711}, {\"sample_mean\": 4.834111083136282}, {\"sample_mean\": 4.785778837651066}, {\"sample_mean\": 4.875178428234861}, {\"sample_mean\": 5.613939315519843}, {\"sample_mean\": 4.4309784717178395}, {\"sample_mean\": 5.138850205634508}, {\"sample_mean\": 4.505845544163739}, {\"sample_mean\": 4.921400016636327}, {\"sample_mean\": 5.05406329953129}, {\"sample_mean\": 5.275122322647755}, {\"sample_mean\": 5.792114701624155}, {\"sample_mean\": 5.298618115258617}, {\"sample_mean\": 5.118540205628222}, {\"sample_mean\": 5.447445139270773}, {\"sample_mean\": 4.946816846404547}, {\"sample_mean\": 4.877608660254435}, {\"sample_mean\": 5.4478387992498325}, {\"sample_mean\": 4.949113267896886}, {\"sample_mean\": 5.048482066947102}, {\"sample_mean\": 4.7456644479025805}, {\"sample_mean\": 4.760588180279329}, {\"sample_mean\": 5.257148754965865}, {\"sample_mean\": 4.943056745314252}, {\"sample_mean\": 5.378892145139778}, {\"sample_mean\": 5.450935632973449}, {\"sample_mean\": 5.082224101002941}, {\"sample_mean\": 4.89518601748502}, {\"sample_mean\": 4.634655620862916}, {\"sample_mean\": 5.011792710280099}, {\"sample_mean\": 4.671026024943336}, {\"sample_mean\": 4.811514385337839}, {\"sample_mean\": 5.60060096841934}, {\"sample_mean\": 5.387284127414116}, {\"sample_mean\": 4.546662240309226}, {\"sample_mean\": 4.58090960036094}, {\"sample_mean\": 4.893774464862203}, {\"sample_mean\": 5.4991748665257925}, {\"sample_mean\": 4.407165513920463}, {\"sample_mean\": 5.104374028687738}, {\"sample_mean\": 5.465799935486409}, {\"sample_mean\": 5.264777718047149}, {\"sample_mean\": 5.2975835795680135}, {\"sample_mean\": 5.445999854135598}, {\"sample_mean\": 5.273591953891245}, {\"sample_mean\": 4.799808679799078}, {\"sample_mean\": 4.96165694816705}, {\"sample_mean\": 5.778243751262192}, {\"sample_mean\": 5.280211103446909}, {\"sample_mean\": 4.3919730781755835}, {\"sample_mean\": 4.747624827110462}, {\"sample_mean\": 5.134414742022991}, {\"sample_mean\": 4.874964533215889}, {\"sample_mean\": 4.923494781222267}, {\"sample_mean\": 5.753601672104214}, {\"sample_mean\": 5.617581270301166}, {\"sample_mean\": 4.790252464806838}, {\"sample_mean\": 4.776666649978416}, {\"sample_mean\": 5.0011365564846075}, {\"sample_mean\": 5.11092905451918}, {\"sample_mean\": 4.639042642261002}, {\"sample_mean\": 5.277755077640079}, {\"sample_mean\": 5.691566539002142}, {\"sample_mean\": 5.220049468125831}, {\"sample_mean\": 4.460891364252661}, {\"sample_mean\": 4.686347025372895}, {\"sample_mean\": 5.114785746918747}, {\"sample_mean\": 4.619261087416199}, {\"sample_mean\": 4.931506850675876}, {\"sample_mean\": 4.48101355591568}, {\"sample_mean\": 4.981785811340993}, {\"sample_mean\": 4.740723616516046}, {\"sample_mean\": 4.837162920671214}, {\"sample_mean\": 4.805624387634161}, {\"sample_mean\": 5.416879305533557}, {\"sample_mean\": 5.171685966801701}, {\"sample_mean\": 5.818633875413145}, {\"sample_mean\": 5.229016596855664}, {\"sample_mean\": 4.874240891194564}, {\"sample_mean\": 5.187883235397087}, {\"sample_mean\": 4.505952751573809}, {\"sample_mean\": 5.26453513365641}, {\"sample_mean\": 5.307911013300656}, {\"sample_mean\": 5.457747841751466}, {\"sample_mean\": 5.253650804030801}, {\"sample_mean\": 5.218916994298821}, {\"sample_mean\": 5.440928820538656}, {\"sample_mean\": 4.962469334708077}, {\"sample_mean\": 4.946860217443334}, {\"sample_mean\": 5.08156503878092}, {\"sample_mean\": 4.645775014821396}, {\"sample_mean\": 5.18893322099136}, {\"sample_mean\": 5.119335786658649}, {\"sample_mean\": 5.110865413988966}, {\"sample_mean\": 4.222458503027713}, {\"sample_mean\": 4.679573893447293}, {\"sample_mean\": 5.006967401349398}, {\"sample_mean\": 5.14512113903314}, {\"sample_mean\": 4.696001509589202}, {\"sample_mean\": 5.259303813554168}, {\"sample_mean\": 4.7824741396161325}, {\"sample_mean\": 4.16455861375634}, {\"sample_mean\": 4.503892500423007}, {\"sample_mean\": 4.542875371528362}, {\"sample_mean\": 4.926671663453139}, {\"sample_mean\": 5.701020120542955}, {\"sample_mean\": 5.082019167537825}, {\"sample_mean\": 5.194301158624548}, {\"sample_mean\": 5.225444498267293}, {\"sample_mean\": 4.690674937833355}, {\"sample_mean\": 5.056319567513288}, {\"sample_mean\": 5.45694959733494}, {\"sample_mean\": 4.9134308948634295}, {\"sample_mean\": 5.301907741513564}, {\"sample_mean\": 4.523242132488814}, {\"sample_mean\": 5.633902675273007}, {\"sample_mean\": 5.001697160483199}, {\"sample_mean\": 4.984756926901482}, {\"sample_mean\": 5.204301939647604}, {\"sample_mean\": 4.608987868721544}, {\"sample_mean\": 5.017756154583829}, {\"sample_mean\": 5.576745615975585}, {\"sample_mean\": 5.419039719742115}, {\"sample_mean\": 4.691041094004098}, {\"sample_mean\": 4.949804475158611}, {\"sample_mean\": 4.311172092292221}, {\"sample_mean\": 5.108086169501529}, {\"sample_mean\": 4.740196370340599}, {\"sample_mean\": 4.010208668258117}, {\"sample_mean\": 4.038128934067086}, {\"sample_mean\": 5.056980826844626}, {\"sample_mean\": 5.333304194862462}, {\"sample_mean\": 5.1009358952637305}, {\"sample_mean\": 4.8297189762307156}, {\"sample_mean\": 5.299439684728383}, {\"sample_mean\": 5.340622232616861}, {\"sample_mean\": 5.11805075749418}, {\"sample_mean\": 5.217024893495843}, {\"sample_mean\": 6.167784484586969}, {\"sample_mean\": 5.1544046663743055}, {\"sample_mean\": 4.91555214127287}, {\"sample_mean\": 5.583329899351252}, {\"sample_mean\": 4.652284781666612}, {\"sample_mean\": 4.9629295306405865}, {\"sample_mean\": 4.999846914737082}, {\"sample_mean\": 5.031542730626726}, {\"sample_mean\": 5.1262184074081665}, {\"sample_mean\": 5.25806666382768}, {\"sample_mean\": 5.787023774480611}, {\"sample_mean\": 5.6078146567143525}, {\"sample_mean\": 4.988056795448276}, {\"sample_mean\": 4.845844494270035}, {\"sample_mean\": 4.948026786225338}, {\"sample_mean\": 4.050874262559411}, {\"sample_mean\": 4.775635638104402}, {\"sample_mean\": 4.8384522662636575}, {\"sample_mean\": 5.13893110181584}, {\"sample_mean\": 5.495849580413392}, {\"sample_mean\": 4.873677822986746}, {\"sample_mean\": 5.131302409691537}, {\"sample_mean\": 4.679624283265033}, {\"sample_mean\": 5.097458183109204}, {\"sample_mean\": 4.3470791795339645}, {\"sample_mean\": 4.970409097128866}, {\"sample_mean\": 5.0384341137089965}, {\"sample_mean\": 4.180452824927263}, {\"sample_mean\": 4.7520068070989785}, {\"sample_mean\": 5.057153704327688}, {\"sample_mean\": 4.659273087597094}, {\"sample_mean\": 5.069599028440004}, {\"sample_mean\": 4.859287344889786}, {\"sample_mean\": 4.71890100331255}, {\"sample_mean\": 5.032530325273359}, {\"sample_mean\": 4.987191070416065}, {\"sample_mean\": 4.825513363722759}, {\"sample_mean\": 5.465032083715514}, {\"sample_mean\": 5.44989453878723}, {\"sample_mean\": 5.425210387406662}, {\"sample_mean\": 4.967930748078584}, {\"sample_mean\": 4.859603370174062}, {\"sample_mean\": 4.93321028286945}, {\"sample_mean\": 4.7711532308486255}, {\"sample_mean\": 4.32637350001478}, {\"sample_mean\": 4.932155231049868}, {\"sample_mean\": 4.924380563998567}, {\"sample_mean\": 5.084190045768727}, {\"sample_mean\": 5.272463932971985}, {\"sample_mean\": 4.885157269212746}, {\"sample_mean\": 4.895543321220213}, {\"sample_mean\": 4.840835744584626}, {\"sample_mean\": 5.157279487506513}, {\"sample_mean\": 5.461389386641472}, {\"sample_mean\": 5.009406438072179}, {\"sample_mean\": 5.52693520175075}, {\"sample_mean\": 4.493927972490818}, {\"sample_mean\": 4.473147115349169}, {\"sample_mean\": 5.33950130138084}, {\"sample_mean\": 5.8892079151308785}, {\"sample_mean\": 5.42010767255249}, {\"sample_mean\": 5.345445103146692}, {\"sample_mean\": 4.753625894138089}, {\"sample_mean\": 4.806396188460244}, {\"sample_mean\": 4.778367819382987}, {\"sample_mean\": 4.677869007249326}, {\"sample_mean\": 5.626863757789714}, {\"sample_mean\": 4.874972130736861}, {\"sample_mean\": 4.817795350336634}, {\"sample_mean\": 5.2366693912335185}, {\"sample_mean\": 5.277548885015988}, {\"sample_mean\": 4.728568816982073}, {\"sample_mean\": 5.308256408998396}, {\"sample_mean\": 5.4264125717131355}, {\"sample_mean\": 5.714816113297856}, {\"sample_mean\": 5.395129026904949}, {\"sample_mean\": 5.258718852397428}, {\"sample_mean\": 5.222017581675907}, {\"sample_mean\": 5.190643533440489}, {\"sample_mean\": 5.121296469670661}, {\"sample_mean\": 4.990750768353049}, {\"sample_mean\": 5.1797147719768155}, {\"sample_mean\": 5.224856983518557}, {\"sample_mean\": 4.866499717528574}, {\"sample_mean\": 5.18782353742743}, {\"sample_mean\": 5.366679441733458}, {\"sample_mean\": 4.77940221281265}, {\"sample_mean\": 5.339907401842554}, {\"sample_mean\": 5.203792912485893}, {\"sample_mean\": 4.98568810497879}, {\"sample_mean\": 5.112160220124688}, {\"sample_mean\": 5.664545510655419}, {\"sample_mean\": 5.320962393902509}, {\"sample_mean\": 5.676072139170392}, {\"sample_mean\": 5.366890340051828}, {\"sample_mean\": 5.002390438035624}, {\"sample_mean\": 4.889276361369536}, {\"sample_mean\": 4.845201778224488}, {\"sample_mean\": 4.89961953254197}, {\"sample_mean\": 4.781138223220637}, {\"sample_mean\": 5.0560895538148625}, {\"sample_mean\": 4.633819407591472}, {\"sample_mean\": 5.6880171753255535}, {\"sample_mean\": 5.2846700887307385}, {\"sample_mean\": 5.0740615201453405}, {\"sample_mean\": 5.227164615626877}, {\"sample_mean\": 5.383119724879658}, {\"sample_mean\": 5.019887793527518}, {\"sample_mean\": 5.856094246883918}, {\"sample_mean\": 5.375460707773309}, {\"sample_mean\": 4.5577626026540745}, {\"sample_mean\": 4.803577536505229}, {\"sample_mean\": 4.777212693185548}, {\"sample_mean\": 5.032920986440297}, {\"sample_mean\": 5.5595695561188405}, {\"sample_mean\": 4.920192555452254}, {\"sample_mean\": 5.351378791314374}, {\"sample_mean\": 4.532667007432763}, {\"sample_mean\": 5.004107798739524}, {\"sample_mean\": 4.801945402346028}, {\"sample_mean\": 5.764439330983536}, {\"sample_mean\": 5.033143245635539}, {\"sample_mean\": 5.59505265685023}, {\"sample_mean\": 5.314476803341865}, {\"sample_mean\": 5.716817271813292}, {\"sample_mean\": 4.90840476336127}, {\"sample_mean\": 5.120334442448389}, {\"sample_mean\": 5.4309695108132}, {\"sample_mean\": 5.107795285414949}, {\"sample_mean\": 5.185902930949384}, {\"sample_mean\": 4.891025918500572}, {\"sample_mean\": 4.714270143793445}, {\"sample_mean\": 4.990922817073616}, {\"sample_mean\": 4.400826340455015}, {\"sample_mean\": 5.064166142515031}, {\"sample_mean\": 4.9269809237457025}, {\"sample_mean\": 4.622440629501529}, {\"sample_mean\": 4.651805634442738}, {\"sample_mean\": 4.980400491981682}, {\"sample_mean\": 4.76964563653123}, {\"sample_mean\": 5.050752046464677}, {\"sample_mean\": 4.732393865532969}, {\"sample_mean\": 4.785716015177591}, {\"sample_mean\": 4.729986262855074}, {\"sample_mean\": 4.1674838903155775}, {\"sample_mean\": 4.438769159781368}, {\"sample_mean\": 4.356095751088051}, {\"sample_mean\": 4.880232511393149}, {\"sample_mean\": 4.774351159474168}, {\"sample_mean\": 4.6137354234344725}, {\"sample_mean\": 4.234159841478204}, {\"sample_mean\": 5.3183043843079085}, {\"sample_mean\": 5.3183110487012994}, {\"sample_mean\": 5.265013051358785}, {\"sample_mean\": 5.466901107268657}, {\"sample_mean\": 4.990055919104979}, {\"sample_mean\": 5.813031640704642}, {\"sample_mean\": 4.97756365328976}, {\"sample_mean\": 4.815691112056216}, {\"sample_mean\": 5.062644244808719}, {\"sample_mean\": 5.4087922435318125}, {\"sample_mean\": 5.110288980173645}, {\"sample_mean\": 5.140181760822623}, {\"sample_mean\": 4.69677004981503}, {\"sample_mean\": 5.471295706738066}, {\"sample_mean\": 4.526901046788809}, {\"sample_mean\": 4.855012481972624}, {\"sample_mean\": 4.9080563784564415}, {\"sample_mean\": 5.233631859742998}, {\"sample_mean\": 4.93402600014386}, {\"sample_mean\": 5.166782915268551}, {\"sample_mean\": 5.019693352524616}, {\"sample_mean\": 4.886073256848356}, {\"sample_mean\": 5.546170603727335}, {\"sample_mean\": 5.500596232963284}, {\"sample_mean\": 4.467598156056914}, {\"sample_mean\": 5.663507131575668}, {\"sample_mean\": 5.314973836976706}, {\"sample_mean\": 5.016166919807599}, {\"sample_mean\": 5.098171049495504}, {\"sample_mean\": 5.170507926281937}, {\"sample_mean\": 4.6294826898311605}, {\"sample_mean\": 5.307240896589053}, {\"sample_mean\": 4.67546239058979}, {\"sample_mean\": 5.072039505832175}, {\"sample_mean\": 5.0816977395204015}, {\"sample_mean\": 4.823607069861209}, {\"sample_mean\": 4.795085357276237}, {\"sample_mean\": 4.863800418217739}, {\"sample_mean\": 5.924311997021071}, {\"sample_mean\": 4.794143306801335}, {\"sample_mean\": 5.368408970691485}, {\"sample_mean\": 4.782214266041804}, {\"sample_mean\": 5.335745794291736}, {\"sample_mean\": 5.623048485924034}, {\"sample_mean\": 4.496216660942501}, {\"sample_mean\": 4.815079258261483}, {\"sample_mean\": 4.630664629813137}, {\"sample_mean\": 4.874709424790015}, {\"sample_mean\": 4.7903003529030075}, {\"sample_mean\": 5.189237533079839}, {\"sample_mean\": 4.7195959940947}, {\"sample_mean\": 4.907161941600766}, {\"sample_mean\": 5.518283601092126}, {\"sample_mean\": 5.063407827373911}, {\"sample_mean\": 5.343967870937437}, {\"sample_mean\": 4.809663185563042}, {\"sample_mean\": 5.12544944560863}, {\"sample_mean\": 4.993913202980553}, {\"sample_mean\": 4.818719752478668}, {\"sample_mean\": 5.127572060128943}, {\"sample_mean\": 5.046359670527063}, {\"sample_mean\": 4.850397232142436}, {\"sample_mean\": 5.32043522374832}, {\"sample_mean\": 5.078417275537812}, {\"sample_mean\": 5.613176824367871}, {\"sample_mean\": 5.499670838500706}, {\"sample_mean\": 4.773026584763572}, {\"sample_mean\": 4.809694004371718}, {\"sample_mean\": 5.79391400203033}, {\"sample_mean\": 5.045446887307278}, {\"sample_mean\": 5.196978049054974}, {\"sample_mean\": 5.028212255954064}, {\"sample_mean\": 5.0790917750401485}, {\"sample_mean\": 4.857160695246983}, {\"sample_mean\": 5.136739889878714}, {\"sample_mean\": 5.308221781263665}, {\"sample_mean\": 4.776895617632234}, {\"sample_mean\": 4.530768028240805}, {\"sample_mean\": 4.4091903462327755}, {\"sample_mean\": 4.591431726670307}, {\"sample_mean\": 4.930636038611603}, {\"sample_mean\": 5.317877093793635}, {\"sample_mean\": 5.839496276767137}, {\"sample_mean\": 5.233102220262172}, {\"sample_mean\": 5.743262845460603}, {\"sample_mean\": 4.929136862056655}, {\"sample_mean\": 4.671663288683763}, {\"sample_mean\": 5.189596929352725}, {\"sample_mean\": 5.827733524495227}, {\"sample_mean\": 4.817161932514788}, {\"sample_mean\": 5.435796151017712}, {\"sample_mean\": 4.963683570199935}, {\"sample_mean\": 4.85488643902099}, {\"sample_mean\": 4.7170580121028}, {\"sample_mean\": 4.739095786867394}, {\"sample_mean\": 5.504747179062744}, {\"sample_mean\": 5.038410127585293}, {\"sample_mean\": 5.588592963992443}, {\"sample_mean\": 5.241827185422}, {\"sample_mean\": 5.0600013373707835}, {\"sample_mean\": 4.218416482327578}, {\"sample_mean\": 4.6596112959095555}, {\"sample_mean\": 4.4934792359598115}, {\"sample_mean\": 5.279761155106683}, {\"sample_mean\": 4.925717644341371}, {\"sample_mean\": 5.216847425969798}, {\"sample_mean\": 5.403944524049567}, {\"sample_mean\": 4.874625646463926}, {\"sample_mean\": 4.893322739307385}, {\"sample_mean\": 4.898766118072941}, {\"sample_mean\": 5.630133084962512}, {\"sample_mean\": 4.83551920075687}, {\"sample_mean\": 5.230424642959665}, {\"sample_mean\": 4.946345632966434}, {\"sample_mean\": 4.613021355588575}, {\"sample_mean\": 4.640137963892456}, {\"sample_mean\": 5.2649931173362585}, {\"sample_mean\": 4.869918490863728}, {\"sample_mean\": 4.940921572423566}, {\"sample_mean\": 5.11931928408912}, {\"sample_mean\": 5.6525252693837675}, {\"sample_mean\": 4.51880224051104}, {\"sample_mean\": 5.324491574879571}], \"data-7efce130a2d22c3176072cc84f76b386\": [{\"x\": 3.0, \"pdf\": 1.2698234671866516e-07}, {\"x\": 3.02, \"pdf\": 1.745913454978549e-07}, {\"x\": 3.04, \"pdf\": 2.392832686493284e-07}, {\"x\": 3.06, \"pdf\": 3.2689796042871425e-07}, {\"x\": 3.08, \"pdf\": 4.4516636871660476e-07}, {\"x\": 3.1, \"pdf\": 6.042862893222472e-07}, {\"x\": 3.12, \"pdf\": 8.176612038467836e-07}, {\"x\": 3.14, \"pdf\": 1.1028445489822057e-06}, {\"x\": 3.16, \"pdf\": 1.4827415837314824e-06}, {\"x\": 3.18, \"pdf\": 1.98713279968088e-06}, {\"x\": 3.2, \"pdf\": 2.6545968447165894e-06}, {\"x\": 3.22, \"pdf\": 3.5349275199902957e-06}, {\"x\": 3.24, \"pdf\": 4.692158896370975e-06}, {\"x\": 3.26, \"pdf\": 6.2083353200127476e-06}, {\"x\": 3.2800000000000002, \"pdf\": 8.188189372620189e-06}, {\"x\": 3.3, \"pdf\": 1.076492103668062e-05}, {\"x\": 3.32, \"pdf\": 1.410730566683488e-05}, {\"x\": 3.34, \"pdf\": 1.8428397100512744e-05}, {\"x\": 3.36, \"pdf\": 2.399613547720731e-05}, {\"x\": 3.38, \"pdf\": 3.1146217073624676e-05}, {\"x\": 3.4, \"pdf\": 4.029763553323548e-05}, {\"x\": 3.42, \"pdf\": 5.197135989491106e-05}, {\"x\": 3.44, \"pdf\": 6.68126741680044e-05}, {\"x\": 3.46, \"pdf\": 8.561776490903225e-05}, {\"x\": 3.48, \"pdf\": 0.00010936520600809304}, {\"x\": 3.5, \"pdf\": 0.00013925305194674762}, {\"x\": 3.52, \"pdf\": 0.000176742309920232}, {\"x\": 3.54, \"pdf\": 0.00022360761467528887}, {\"x\": 3.56, \"pdf\": 0.0002819959743832502}, {\"x\": 3.58, \"pdf\": 0.0003544944874357519}, {\"x\": 3.6, \"pdf\": 0.0004442079442056664}, {\"x\": 3.62, \"pdf\": 0.0005548472194610549}, {\"x\": 3.64, \"pdf\": 0.0006908293246174893}, {\"x\": 3.66, \"pdf\": 0.0008573899182661942}, {\"x\": 3.68, \"pdf\": 0.001060708961985602}, {\"x\": 3.7, \"pdf\": 0.0013080500497232822}, {\"x\": 3.7199999999999998, \"pdf\": 0.0016079137264583395}, {\"x\": 3.74, \"pdf\": 0.0019702048391677224}, {\"x\": 3.76, \"pdf\": 0.002406413624699962}, {\"x\": 3.7800000000000002, \"pdf\": 0.002929809830385715}, {\"x\": 3.8, \"pdf\": 0.003555648680877736}, {\"x\": 3.8200000000000003, \"pdf\": 0.004301386947475875}, {\"x\": 3.84, \"pdf\": 0.00518690674505229}, {\"x\": 3.86, \"pdf\": 0.006234743980477786}, {\"x\": 3.88, \"pdf\": 0.007470317612272713}, {\"x\": 3.9, \"pdf\": 0.008922155064916192}, {\"x\": 3.92, \"pdf\": 0.010622108287775604}, {\"x\": 3.94, \"pdf\": 0.012605554077273774}, {\"x\": 3.96, \"pdf\": 0.014911571415507946}, {\"x\": 3.98, \"pdf\": 0.01758308774738886}, {\"x\": 4.0, \"pdf\": 0.02066698535409204}, {\"x\": 4.02, \"pdf\": 0.02421415831968451}, {\"x\": 4.04, \"pdf\": 0.028279510069901093}, {\"x\": 4.0600000000000005, \"pdf\": 0.03292188112916045}, {\"x\": 4.08, \"pdf\": 0.038203896637112454}, {\"x\": 4.1, \"pdf\": 0.04419172333201094}, {\"x\": 4.12, \"pdf\": 0.050954726185723526}, {\"x\": 4.140000000000001, \"pdf\": 0.058565015701017895}, {\"x\": 4.16, \"pdf\": 0.06709687808675474}, {\"x\": 4.18, \"pdf\": 0.07662608213355307}, {\"x\": 4.2, \"pdf\": 0.08722905863394545}, {\"x\": 4.22, \"pdf\": 0.09898195062734902}, {\"x\": 4.24, \"pdf\": 0.11195953558753903}, {\"x\": 4.26, \"pdf\": 0.12623402387923904}, {\"x\": 4.28, \"pdf\": 0.14187374134473915}, {\"x\": 4.3, \"pdf\": 0.15894170767727767}, {\"x\": 4.32, \"pdf\": 0.17749412621427865}, {\"x\": 4.34, \"pdf\": 0.19757880484240298}, {\"x\": 4.36, \"pdf\": 0.21923353173480786}, {\"x\": 4.38, \"pdf\": 0.24248443351280316}, {\"x\": 4.4, \"pdf\": 0.2673443470035396}, {\"x\": 4.42, \"pdf\": 0.2938112389103993}, {\"x\": 4.4399999999999995, \"pdf\": 0.3218667102803008}, {\"x\": 4.46, \"pdf\": 0.3514746245023804}, {\"x\": 4.48, \"pdf\": 0.38257989857533004}, {\"x\": 4.5, \"pdf\": 0.41510749742059466}, {\"x\": 4.52, \"pdf\": 0.4489616700010925}, {\"x\": 4.54, \"pdf\": 0.4840254638617831}, {\"x\": 4.5600000000000005, \"pdf\": 0.5201605514020323}, {\"x\": 4.58, \"pdf\": 0.5572073967184715}, {\"x\": 4.6, \"pdf\": 0.5949857862574683}, {\"x\": 4.62, \"pdf\": 0.633295739865391}, {\"x\": 4.640000000000001, \"pdf\": 0.6719188112401959}, {\"x\": 4.66, \"pdf\": 0.7106197784266876}, {\"x\": 4.68, \"pdf\": 0.7491487160540626}, {\"x\": 4.7, \"pdf\": 0.7872434317142878}, {\"x\": 4.72, \"pdf\": 0.8246322394759612}, {\"x\": 4.74, \"pdf\": 0.8610370342917477}, {\"x\": 4.76, \"pdf\": 0.8961766222695111}, {\"x\": 4.78, \"pdf\": 0.929770253719997}, {\"x\": 4.8, \"pdf\": 0.9615412988393077}, {\"x\": 4.82, \"pdf\": 0.9912210000854449}, {\"x\": 4.84, \"pdf\": 1.0185522309873223}, {\"x\": 4.86, \"pdf\": 1.0432931884662069}, {\"x\": 4.88, \"pdf\": 1.0652209448901007}, {\"x\": 4.9, \"pdf\": 1.0841347871048637}, {\"x\": 4.92, \"pdf\": 1.0998592726166878}, {\"x\": 4.9399999999999995, \"pdf\": 1.112246937903477}, {\"x\": 4.96, \"pdf\": 1.1211806004105842}, {\"x\": 4.98, \"pdf\": 1.126575203983495}, {\"x\": 5.0, \"pdf\": 1.1283791670955128}, {\"x\": 5.02, \"pdf\": 1.126575203983495}, {\"x\": 5.04, \"pdf\": 1.1211806004105842}, {\"x\": 5.0600000000000005, \"pdf\": 1.112246937903477}, {\"x\": 5.08, \"pdf\": 1.0998592726166878}, {\"x\": 5.1, \"pdf\": 1.0841347871048637}, {\"x\": 5.12, \"pdf\": 1.0652209448901007}, {\"x\": 5.140000000000001, \"pdf\": 1.0432931884662056}, {\"x\": 5.16, \"pdf\": 1.0185522309873223}, {\"x\": 5.18, \"pdf\": 0.9912210000854449}, {\"x\": 5.2, \"pdf\": 0.9615412988393077}, {\"x\": 5.220000000000001, \"pdf\": 0.9297702537199956}, {\"x\": 5.24, \"pdf\": 0.8961766222695111}, {\"x\": 5.26, \"pdf\": 0.8610370342917477}, {\"x\": 5.28, \"pdf\": 0.8246322394759612}, {\"x\": 5.300000000000001, \"pdf\": 0.787243431714286}, {\"x\": 5.32, \"pdf\": 0.7491487160540626}, {\"x\": 5.34, \"pdf\": 0.7106197784266876}, {\"x\": 5.359999999999999, \"pdf\": 0.6719188112401959}, {\"x\": 5.38, \"pdf\": 0.633295739865391}, {\"x\": 5.4, \"pdf\": 0.5949857862574683}, {\"x\": 5.42, \"pdf\": 0.5572073967184715}, {\"x\": 5.4399999999999995, \"pdf\": 0.5201605514020323}, {\"x\": 5.46, \"pdf\": 0.4840254638617831}, {\"x\": 5.48, \"pdf\": 0.4489616700010925}, {\"x\": 5.5, \"pdf\": 0.41510749742059466}, {\"x\": 5.52, \"pdf\": 0.38257989857533004}, {\"x\": 5.54, \"pdf\": 0.3514746245023804}, {\"x\": 5.5600000000000005, \"pdf\": 0.3218667102803008}, {\"x\": 5.58, \"pdf\": 0.2938112389103993}, {\"x\": 5.6, \"pdf\": 0.2673443470035396}, {\"x\": 5.62, \"pdf\": 0.24248443351280316}, {\"x\": 5.640000000000001, \"pdf\": 0.2192335317348069}, {\"x\": 5.66, \"pdf\": 0.19757880484240298}, {\"x\": 5.68, \"pdf\": 0.17749412621427865}, {\"x\": 5.7, \"pdf\": 0.15894170767727767}, {\"x\": 5.720000000000001, \"pdf\": 0.14187374134473843}, {\"x\": 5.74, \"pdf\": 0.12623402387923904}, {\"x\": 5.76, \"pdf\": 0.11195953558753903}, {\"x\": 5.78, \"pdf\": 0.09898195062734902}, {\"x\": 5.800000000000001, \"pdf\": 0.08722905863394495}, {\"x\": 5.82, \"pdf\": 0.07662608213355307}, {\"x\": 5.84, \"pdf\": 0.06709687808675474}, {\"x\": 5.859999999999999, \"pdf\": 0.058565015701017895}, {\"x\": 5.88, \"pdf\": 0.050954726185723526}, {\"x\": 5.9, \"pdf\": 0.04419172333201094}, {\"x\": 5.92, \"pdf\": 0.038203896637112454}, {\"x\": 5.9399999999999995, \"pdf\": 0.03292188112916045}, {\"x\": 5.96, \"pdf\": 0.028279510069901093}, {\"x\": 5.98, \"pdf\": 0.02421415831968451}, {\"x\": 6.0, \"pdf\": 0.02066698535409204}, {\"x\": 6.02, \"pdf\": 0.01758308774738892}, {\"x\": 6.04, \"pdf\": 0.014911571415507946}, {\"x\": 6.0600000000000005, \"pdf\": 0.012605554077273729}, {\"x\": 6.08, \"pdf\": 0.010622108287775604}, {\"x\": 6.1, \"pdf\": 0.008922155064916231}, {\"x\": 6.12, \"pdf\": 0.007470317612272713}, {\"x\": 6.140000000000001, \"pdf\": 0.006234743980477765}, {\"x\": 6.16, \"pdf\": 0.00518690674505229}, {\"x\": 6.18, \"pdf\": 0.004301386947475875}, {\"x\": 6.2, \"pdf\": 0.003555648680877736}, {\"x\": 6.220000000000001, \"pdf\": 0.002929809830385691}, {\"x\": 6.24, \"pdf\": 0.002406413624699962}, {\"x\": 6.26, \"pdf\": 0.0019702048391677224}, {\"x\": 6.28, \"pdf\": 0.0016079137264583395}, {\"x\": 6.300000000000001, \"pdf\": 0.0013080500497232694}, {\"x\": 6.32, \"pdf\": 0.001060708961985599}, {\"x\": 6.34, \"pdf\": 0.0008573899182661942}, {\"x\": 6.359999999999999, \"pdf\": 0.0006908293246174929}, {\"x\": 6.38, \"pdf\": 0.0005548472194610549}, {\"x\": 6.4, \"pdf\": 0.00044420794420566397}, {\"x\": 6.42, \"pdf\": 0.0003544944874357519}, {\"x\": 6.4399999999999995, \"pdf\": 0.0002819959743832512}, {\"x\": 6.46, \"pdf\": 0.00022360761467528887}, {\"x\": 6.48, \"pdf\": 0.0001767423099202314}, {\"x\": 6.5, \"pdf\": 0.00013925305194674762}, {\"x\": 6.52, \"pdf\": 0.00010936520600809382}, {\"x\": 6.54, \"pdf\": 8.561776490903225e-05}, {\"x\": 6.5600000000000005, \"pdf\": 6.681267416800381e-05}, {\"x\": 6.58, \"pdf\": 5.197135989491106e-05}, {\"x\": 6.6, \"pdf\": 4.0297635533235756e-05}, {\"x\": 6.62, \"pdf\": 3.1146217073624676e-05}, {\"x\": 6.640000000000001, \"pdf\": 2.39961354772071e-05}, {\"x\": 6.66, \"pdf\": 1.8428397100512744e-05}, {\"x\": 6.68, \"pdf\": 1.4107305666834931e-05}, {\"x\": 6.7, \"pdf\": 1.076492103668062e-05}, {\"x\": 6.720000000000001, \"pdf\": 8.188189372620087e-06}, {\"x\": 6.74, \"pdf\": 6.2083353200127476e-06}, {\"x\": 6.76, \"pdf\": 4.692158896370975e-06}, {\"x\": 6.78, \"pdf\": 3.5349275199902647e-06}, {\"x\": 6.800000000000001, \"pdf\": 2.6545968447165564e-06}, {\"x\": 6.82, \"pdf\": 1.9871327996808693e-06}, {\"x\": 6.84, \"pdf\": 1.4827415837314824e-06}, {\"x\": 6.859999999999999, \"pdf\": 1.1028445489822155e-06}, {\"x\": 6.88, \"pdf\": 8.176612038467836e-07}, {\"x\": 6.9, \"pdf\": 6.042862893222408e-07}, {\"x\": 6.92, \"pdf\": 4.4516636871660476e-07}, {\"x\": 6.9399999999999995, \"pdf\": 3.268979604287172e-07}, {\"x\": 6.96, \"pdf\": 2.392832686493284e-07}, {\"x\": 6.98, \"pdf\": 1.7459134549785337e-07}]}}, {\"mode\": \"vega-lite\"});\n",
       "</script>"
      ],
      "text/plain": [
       "alt.LayerChart(...)"
      ]
     },
     "execution_count": 9,
     "metadata": {},
     "output_type": "execute_result"
    }
   ],
   "source": [
    "data_kde = (alt\n",
    "                .Chart(plot_df)\n",
    "                .transform_density(\n",
    "                    'sample_mean',\n",
    "                    as_=['sample_mean', 'density'],\n",
    "                    extent=[3,7]\n",
    "                )\n",
    "                .mark_area()\n",
    "                .encode(x = alt.X(\"sample_mean:Q\",\n",
    "                                 title=\"Sample mean\"),\n",
    "                        y = \"density:Q\"))\n",
    "\n",
    "clt_line = (alt\n",
    "               .Chart(clt_df)\n",
    "               .mark_line(color = \"red\")\n",
    "               .encode(x = \"x\",\n",
    "                       y = \"pdf\"))\n",
    "\n",
    "data_kde + clt_line"
   ]
  },
  {
   "cell_type": "code",
   "execution_count": 10,
   "metadata": {},
   "outputs": [
    {
     "data": {
      "text/html": [
       "\n",
       "<div id=\"altair-viz-a7676cf425e34caf945bc7d3a3fab60f\"></div>\n",
       "<script type=\"text/javascript\">\n",
       "  (function(spec, embedOpt){\n",
       "    let outputDiv = document.currentScript.previousElementSibling;\n",
       "    if (outputDiv.id !== \"altair-viz-a7676cf425e34caf945bc7d3a3fab60f\") {\n",
       "      outputDiv = document.getElementById(\"altair-viz-a7676cf425e34caf945bc7d3a3fab60f\");\n",
       "    }\n",
       "    const paths = {\n",
       "      \"vega\": \"https://cdn.jsdelivr.net/npm//vega@5?noext\",\n",
       "      \"vega-lib\": \"https://cdn.jsdelivr.net/npm//vega-lib?noext\",\n",
       "      \"vega-lite\": \"https://cdn.jsdelivr.net/npm//vega-lite@4.8.1?noext\",\n",
       "      \"vega-embed\": \"https://cdn.jsdelivr.net/npm//vega-embed@6?noext\",\n",
       "    };\n",
       "\n",
       "    function loadScript(lib) {\n",
       "      return new Promise(function(resolve, reject) {\n",
       "        var s = document.createElement('script');\n",
       "        s.src = paths[lib];\n",
       "        s.async = true;\n",
       "        s.onload = () => resolve(paths[lib]);\n",
       "        s.onerror = () => reject(`Error loading script: ${paths[lib]}`);\n",
       "        document.getElementsByTagName(\"head\")[0].appendChild(s);\n",
       "      });\n",
       "    }\n",
       "\n",
       "    function showError(err) {\n",
       "      outputDiv.innerHTML = `<div class=\"error\" style=\"color:red;\">${err}</div>`;\n",
       "      throw err;\n",
       "    }\n",
       "\n",
       "    function displayChart(vegaEmbed) {\n",
       "      vegaEmbed(outputDiv, spec, embedOpt)\n",
       "        .catch(err => showError(`Javascript Error: ${err.message}<br>This usually means there's a typo in your chart specification. See the javascript console for the full traceback.`));\n",
       "    }\n",
       "\n",
       "    if(typeof define === \"function\" && define.amd) {\n",
       "      requirejs.config({paths});\n",
       "      require([\"vega-embed\"], displayChart, err => showError(`Error loading script: ${err.message}`));\n",
       "    } else if (typeof vegaEmbed === \"function\") {\n",
       "      displayChart(vegaEmbed);\n",
       "    } else {\n",
       "      loadScript(\"vega\")\n",
       "        .then(() => loadScript(\"vega-lite\"))\n",
       "        .then(() => loadScript(\"vega-embed\"))\n",
       "        .catch(showError)\n",
       "        .then(() => displayChart(vegaEmbed));\n",
       "    }\n",
       "  })({\"config\": {\"view\": {\"continuousWidth\": 400, \"continuousHeight\": 300}}, \"layer\": [{\"data\": {\"name\": \"data-24e78565a658cfc83406b47f2292661d\"}, \"mark\": \"point\", \"encoding\": {\"x\": {\"type\": \"quantitative\", \"field\": \"sample_means\", \"scale\": {\"zero\": false}, \"title\": \"Sample mean quantile\"}, \"y\": {\"type\": \"quantitative\", \"field\": \"quantiles\", \"scale\": {\"zero\": false}, \"title\": \"Normal quantile\"}}}, {\"data\": {\"name\": \"data-624a5a56c9f5bc2d718bc6a6195090bd\"}, \"mark\": {\"type\": \"line\", \"color\": \"red\"}, \"encoding\": {\"x\": {\"type\": \"quantitative\", \"field\": \"x\"}, \"y\": {\"type\": \"quantitative\", \"field\": \"y\"}}}], \"$schema\": \"https://vega.github.io/schema/vega-lite/v4.8.1.json\", \"datasets\": {\"data-24e78565a658cfc83406b47f2292661d\": [{\"sample_means\": 4.010208668258117, \"quantiles\": 3.9074378904334983}, {\"sample_means\": 4.038128934067086, \"quantiles\": 4.0285125745668395}, {\"sample_means\": 4.050874262559411, \"quantiles\": 4.089306816140775}, {\"sample_means\": 4.16455861375634, \"quantiles\": 4.131226196812145}, {\"sample_means\": 4.1674838903155775, \"quantiles\": 4.16362769039822}, {\"sample_means\": 4.180452824927263, \"quantiles\": 4.190232671078349}, {\"sample_means\": 4.218416482327578, \"quantiles\": 4.212915280779262}, {\"sample_means\": 4.222458503027713, \"quantiles\": 4.232757189111141}, {\"sample_means\": 4.234159841478204, \"quantiles\": 4.250441465790852}, {\"sample_means\": 4.311172092292221, \"quantiles\": 4.266428073666739}, {\"sample_means\": 4.32637350001478, \"quantiles\": 4.281042056391843}, {\"sample_means\": 4.344456830499631, \"quantiles\": 4.29452192962303}, {\"sample_means\": 4.3470791795339645, \"quantiles\": 4.307048087825161}, {\"sample_means\": 4.351135109325587, \"quantiles\": 4.31876039640342}, {\"sample_means\": 4.356095751088051, \"quantiles\": 4.329769571432056}, {\"sample_means\": 4.3919730781755835, \"quantiles\": 4.340164812050592}, {\"sample_means\": 4.395076054645509, \"quantiles\": 4.350019078390521}, {\"sample_means\": 4.400826340455015, \"quantiles\": 4.359392838125469}, {\"sample_means\": 4.403639079235195, \"quantiles\": 4.3683367869505245}, {\"sample_means\": 4.407165513920463, \"quantiles\": 4.376893863574251}, {\"sample_means\": 4.4091903462327755, \"quantiles\": 4.3851007685264936}, {\"sample_means\": 4.410823874997665, \"quantiles\": 4.39298912692152}, {\"sample_means\": 4.414612388079357, \"quantiles\": 4.400586391129214}, {\"sample_means\": 4.4309784717178395, \"quantiles\": 4.407916550377942}, {\"sample_means\": 4.438769159781368, \"quantiles\": 4.41500069495354}, {\"sample_means\": 4.45725659346026, \"quantiles\": 4.421857469445889}, {\"sample_means\": 4.460891364252661, \"quantiles\": 4.428503440313997}, {\"sample_means\": 4.466120120386771, \"quantiles\": 4.434953396557377}, {\"sample_means\": 4.467598156056914, \"quantiles\": 4.441220597634742}, {\"sample_means\": 4.473147115349169, \"quantiles\": 4.447316979394846}, {\"sample_means\": 4.48101355591568, \"quantiles\": 4.453253326300384}, {\"sample_means\": 4.4934792359598115, \"quantiles\": 4.459039416376998}, {\"sample_means\": 4.493927972490818, \"quantiles\": 4.464684143928526}, {\"sample_means\": 4.496216660942501, \"quantiles\": 4.470195624002706}, {\"sample_means\": 4.498475110037808, \"quantiles\": 4.475581281780869}, {\"sample_means\": 4.503892500423007, \"quantiles\": 4.480847929438017}, {\"sample_means\": 4.505845544163739, \"quantiles\": 4.486001832530498}, {\"sample_means\": 4.505952751573809, \"quantiles\": 4.491048767583986}, {\"sample_means\": 4.5073403546184, \"quantiles\": 4.495994072250183}, {\"sample_means\": 4.51880224051104, \"quantiles\": 4.500842689158024}, {\"sample_means\": 4.523242132488814, \"quantiles\": 4.5055992043906805}, {\"sample_means\": 4.52457633794353, \"quantiles\": 4.510267881362602}, {\"sample_means\": 4.526901046788809, \"quantiles\": 4.514852690743496}, {\"sample_means\": 4.530768028240805, \"quantiles\": 4.519357336972134}, {\"sample_means\": 4.532667007432763, \"quantiles\": 4.5237852818176645}, {\"sample_means\": 4.541899418853274, \"quantiles\": 4.528139765375799}, {\"sample_means\": 4.542875371528362, \"quantiles\": 4.532423824829105}, {\"sample_means\": 4.546662240309226, \"quantiles\": 4.536640311252236}, {\"sample_means\": 4.548861003000579, \"quantiles\": 4.540791904702492}, {\"sample_means\": 4.5577626026540745, \"quantiles\": 4.544881127802275}, {\"sample_means\": 4.58090960036094, \"quantiles\": 4.548910357991415}, {\"sample_means\": 4.586288822368734, \"quantiles\": 4.552881838603297}, {\"sample_means\": 4.591431726670307, \"quantiles\": 4.556797688898229}, {\"sample_means\": 4.60586848643261, \"quantiles\": 4.560659913170154}, {\"sample_means\": 4.608987868721544, \"quantiles\": 4.564470409027941}, {\"sample_means\": 4.613021355588575, \"quantiles\": 4.568230974939771}, {\"sample_means\": 4.613656359509317, \"quantiles\": 4.571943317118258}, {\"sample_means\": 4.6137354234344725, \"quantiles\": 4.575609055814519}, {\"sample_means\": 4.617341573796594, \"quantiles\": 4.579229731081292}, {\"sample_means\": 4.619261087416199, \"quantiles\": 4.582806808058165}, {\"sample_means\": 4.622440629501529, \"quantiles\": 4.586341681825912}, {\"sample_means\": 4.6294826898311605, \"quantiles\": 4.589835681871555}, {\"sample_means\": 4.630664629813137, \"quantiles\": 4.593290076201191}, {\"sample_means\": 4.633819407591472, \"quantiles\": 4.596706075133549}, {\"sample_means\": 4.634655620862916, \"quantiles\": 4.600084834803677}, {\"sample_means\": 4.635531117992973, \"quantiles\": 4.6034274604030525}, {\"sample_means\": 4.639042642261002, \"quantiles\": 4.60673500917966}, {\"sample_means\": 4.640137963892456, \"quantiles\": 4.610008493219149}, {\"sample_means\": 4.641680796201078, \"quantiles\": 4.613248882026049}, {\"sample_means\": 4.644266021712742, \"quantiles\": 4.61645710492212}, {\"sample_means\": 4.645775014821396, \"quantiles\": 4.6196340532772355}, {\"sample_means\": 4.651805634442738, \"quantiles\": 4.622780582586689}, {\"sample_means\": 4.652284781666612, \"quantiles\": 4.625897514407508}, {\"sample_means\": 4.657098967391025, \"quantiles\": 4.628985638165144}, {\"sample_means\": 4.659273087597094, \"quantiles\": 4.632045712840866}, {\"sample_means\": 4.6596112959095555, \"quantiles\": 4.63507846854922}, {\"sample_means\": 4.671026024943336, \"quantiles\": 4.638084608014093}, {\"sample_means\": 4.671663288683763, \"quantiles\": 4.641064807951123}, {\"sample_means\": 4.67546239058979, \"quantiles\": 4.644019720363531}, {\"sample_means\": 4.676639823402439, \"quantiles\": 4.646949973757847}, {\"sample_means\": 4.676854803963449, \"quantiles\": 4.649856174285401}, {\"sample_means\": 4.677869007249326, \"quantiles\": 4.652738906814999}, {\"sample_means\": 4.678352503602172, \"quantiles\": 4.655598735941722}, {\"sample_means\": 4.679573893447293, \"quantiles\": 4.658436206936368}, {\"sample_means\": 4.679624283265033, \"quantiles\": 4.661251846639718}, {\"sample_means\": 4.686347025372895, \"quantiles\": 4.664046164305441}, {\"sample_means\": 4.690674937833355, \"quantiles\": 4.66681965239514}, {\"sample_means\": 4.691041094004098, \"quantiles\": 4.669572787328807}, {\"sample_means\": 4.696001509589202, \"quantiles\": 4.672306030193648}, {\"sample_means\": 4.69677004981503, \"quantiles\": 4.675019827414043}, {\"sample_means\": 4.70367411267369, \"quantiles\": 4.6777146113851735}, {\"sample_means\": 4.705265722357531, \"quantiles\": 4.680390801072691}, {\"sample_means\": 4.712030129967711, \"quantiles\": 4.683048802580564}, {\"sample_means\": 4.714270143793445, \"quantiles\": 4.685689009689157}, {\"sample_means\": 4.7170580121028, \"quantiles\": 4.688311804365373}, {\"sample_means\": 4.717103022614494, \"quantiles\": 4.690917557246616}, {\"sample_means\": 4.71890100331255, \"quantiles\": 4.693506628100157}, {\"sample_means\": 4.7195959940947, \"quantiles\": 4.6960793662594185}, {\"sample_means\": 4.728568816982073, \"quantiles\": 4.698636111038546}, {\"sample_means\": 4.729986262855074, \"quantiles\": 4.701177192126562}, {\"sample_means\": 4.732393865532969, \"quantiles\": 4.703702929962316}, {\"sample_means\": 4.735302836843643, \"quantiles\": 4.70621363609133}, {\"sample_means\": 4.739095786867394, \"quantiles\": 4.708709613505602}, {\"sample_means\": 4.739565150475928, \"quantiles\": 4.711191156967332}, {\"sample_means\": 4.740196370340599, \"quantiles\": 4.713658553317482}, {\"sample_means\": 4.740723616516046, \"quantiles\": 4.7161120817700235}, {\"sample_means\": 4.7456644479025805, \"quantiles\": 4.718552014192659}, {\"sample_means\": 4.747624827110462, \"quantiles\": 4.720978615374777}, {\"sample_means\": 4.7520068070989785, \"quantiles\": 4.723392143283312}, {\"sample_means\": 4.753625894138089, \"quantiles\": 4.725792849307199}, {\"sample_means\": 4.760588180279329, \"quantiles\": 4.728180978490986}, {\"sample_means\": 4.76964563653123, \"quantiles\": 4.730556769758226}, {\"sample_means\": 4.7711532308486255, \"quantiles\": 4.732920456125149}, {\"sample_means\": 4.773026584763572, \"quantiles\": 4.735272264905146}, {\"sample_means\": 4.774351159474168, \"quantiles\": 4.737612417904525}, {\"sample_means\": 4.775635638104402, \"quantiles\": 4.739941131609988}, {\"sample_means\": 4.776666649978416, \"quantiles\": 4.742258617368254}, {\"sample_means\": 4.776895617632234, \"quantiles\": 4.744565081558219}, {\"sample_means\": 4.777212693185548, \"quantiles\": 4.746860725756031}, {\"sample_means\": 4.778367819382987, \"quantiles\": 4.749145746893416}, {\"sample_means\": 4.77940221281265, \"quantiles\": 4.751420337409606}, {\"sample_means\": 4.781138223220637, \"quantiles\": 4.753684685397165}, {\"sample_means\": 4.782214266041804, \"quantiles\": 4.755938974742021}, {\"sample_means\": 4.7824741396161325, \"quantiles\": 4.758183385257961}, {\"sample_means\": 4.785716015177591, \"quantiles\": 4.760418092815877}, {\"sample_means\": 4.785778837651066, \"quantiles\": 4.762643269467992}, {\"sample_means\": 4.790252464806838, \"quantiles\": 4.764859083567301}, {\"sample_means\": 4.7903003529030075, \"quantiles\": 4.767065699882472}, {\"sample_means\": 4.794143306801335, \"quantiles\": 4.769263279708377}, {\"sample_means\": 4.795085357276237, \"quantiles\": 4.771451980972493}, {\"sample_means\": 4.799808679799078, \"quantiles\": 4.7736319583373295}, {\"sample_means\": 4.801945402346028, \"quantiles\": 4.775803363299072}, {\"sample_means\": 4.803577536505229, \"quantiles\": 4.777966344282629}, {\"sample_means\": 4.805624387634161, \"quantiles\": 4.780121046733197}, {\"sample_means\": 4.806396188460244, \"quantiles\": 4.782267613204553}, {\"sample_means\": 4.809663185563042, \"quantiles\": 4.7844061834441645}, {\"sample_means\": 4.809694004371718, \"quantiles\": 4.786536894475296}, {\"sample_means\": 4.811514385337839, \"quantiles\": 4.788659880676219}, {\"sample_means\": 4.815079258261483, \"quantiles\": 4.790775273856649}, {\"sample_means\": 4.815691112056216, \"quantiles\": 4.792883203331545}, {\"sample_means\": 4.816248041514515, \"quantiles\": 4.794983795992361}, {\"sample_means\": 4.817161932514788, \"quantiles\": 4.797077176375871}, {\"sample_means\": 4.817795350336634, \"quantiles\": 4.799163466730663}, {\"sample_means\": 4.818719752478668, \"quantiles\": 4.8012427870813985}, {\"sample_means\": 4.823525671799554, \"quantiles\": 4.803315255290928}, {\"sample_means\": 4.823607069861209, \"quantiles\": 4.8053809871203566}, {\"sample_means\": 4.825513363722759, \"quantiles\": 4.807440096287129}, {\"sample_means\": 4.825710682729057, \"quantiles\": 4.809492694521234}, {\"sample_means\": 4.8297189762307156, \"quantiles\": 4.8115388916195805}, {\"sample_means\": 4.834111083136282, \"quantiles\": 4.813578795498638}, {\"sample_means\": 4.83551920075687, \"quantiles\": 4.815612512245394}, {\"sample_means\": 4.837162920671214, \"quantiles\": 4.81764014616671}, {\"sample_means\": 4.8384522662636575, \"quantiles\": 4.819661799837121}, {\"sample_means\": 4.83887159467542, \"quantiles\": 4.8216775741451565}, {\"sample_means\": 4.840835744584626, \"quantiles\": 4.823687568338226}, {\"sample_means\": 4.845201778224488, \"quantiles\": 4.825691880066132}, {\"sample_means\": 4.845844494270035, \"quantiles\": 4.827690605423262}, {\"sample_means\": 4.8467947356050525, \"quantiles\": 4.829683838989503}, {\"sample_means\": 4.850397232142436, \"quantiles\": 4.831671673869937}, {\"sample_means\": 4.85488643902099, \"quantiles\": 4.833654201733354}, {\"sample_means\": 4.855012481972624, \"quantiles\": 4.835631512849632}, {\"sample_means\": 4.857160695246983, \"quantiles\": 4.837603696126029}, {\"sample_means\": 4.859287344889786, \"quantiles\": 4.839570839142409}, {\"sample_means\": 4.859603370174062, \"quantiles\": 4.841533028185469}, {\"sample_means\": 4.863800418217739, \"quantiles\": 4.843490348281982}, {\"sample_means\": 4.866499717528574, \"quantiles\": 4.845442883231099}, {\"sample_means\": 4.869918490863728, \"quantiles\": 4.847390715635748}, {\"sample_means\": 4.873677822986746, \"quantiles\": 4.849333926933147}, {\"sample_means\": 4.874240891194564, \"quantiles\": 4.851272597424491}, {\"sample_means\": 4.874625646463926, \"quantiles\": 4.85320680630381}, {\"sample_means\": 4.874709424790015, \"quantiles\": 4.855136631686047}, {\"sample_means\": 4.874964533215889, \"quantiles\": 4.857062150634389}, {\"sample_means\": 4.874972130736861, \"quantiles\": 4.858983439186849}, {\"sample_means\": 4.875178428234861, \"quantiles\": 4.86090057238216}, {\"sample_means\": 4.877608660254435, \"quantiles\": 4.862813624284983}, {\"sample_means\": 4.880232511393149, \"quantiles\": 4.864722668010452}, {\"sample_means\": 4.883178728679279, \"quantiles\": 4.866627775748098}, {\"sample_means\": 4.885157269212746, \"quantiles\": 4.868529018785152}, {\"sample_means\": 4.886073256848356, \"quantiles\": 4.870426467529256}, {\"sample_means\": 4.889276361369536, \"quantiles\": 4.872320191530613}, {\"sample_means\": 4.891025918500572, \"quantiles\": 4.874210259503574}, {\"sample_means\": 4.893322739307385, \"quantiles\": 4.876096739347701}, {\"sample_means\": 4.893774464862203, \"quantiles\": 4.877979698168309}, {\"sample_means\": 4.894900985999457, \"quantiles\": 4.879859202296521}, {\"sample_means\": 4.89518601748502, \"quantiles\": 4.881735317308828}, {\"sample_means\": 4.895543321220213, \"quantiles\": 4.883608108046202}, {\"sample_means\": 4.898766118072941, \"quantiles\": 4.885477638632744}, {\"sample_means\": 4.89961953254197, \"quantiles\": 4.887343972493911}, {\"sample_means\": 4.900139524327337, \"quantiles\": 4.889207172374319}, {\"sample_means\": 4.90425742963872, \"quantiles\": 4.891067300355139}, {\"sample_means\": 4.907161941600766, \"quantiles\": 4.892924417871107}, {\"sample_means\": 4.9080563784564415, \"quantiles\": 4.894778585727152}, {\"sample_means\": 4.90840476336127, \"quantiles\": 4.896629864114657}, {\"sample_means\": 4.9134308948634295, \"quantiles\": 4.898478312627372}, {\"sample_means\": 4.91555214127287, \"quantiles\": 4.900323990276978}, {\"sample_means\": 4.9191597080518, \"quantiles\": 4.902166955508328}, {\"sample_means\": 4.920192555452254, \"quantiles\": 4.904007266214362}, {\"sample_means\": 4.921400016636327, \"quantiles\": 4.905844979750718}, {\"sample_means\": 4.923494781222267, \"quantiles\": 4.907680152950043}, {\"sample_means\": 4.924380563998567, \"quantiles\": 4.909512842136012}, {\"sample_means\": 4.925717644341371, \"quantiles\": 4.911343103137077}, {\"sample_means\": 4.926671663453139, \"quantiles\": 4.913170991299937}, {\"sample_means\": 4.9269809237457025, \"quantiles\": 4.914996561502753}, {\"sample_means\": 4.927372969339843, \"quantiles\": 4.916819868168111}, {\"sample_means\": 4.929136862056655, \"quantiles\": 4.918640965275739}, {\"sample_means\": 4.930636038611603, \"quantiles\": 4.9204599063749965}, {\"sample_means\": 4.931506850675876, \"quantiles\": 4.9222767445971245}, {\"sample_means\": 4.932155231049868, \"quantiles\": 4.9240915326672905}, {\"sample_means\": 4.93321028286945, \"quantiles\": 4.925904322916414}, {\"sample_means\": 4.93402600014386, \"quantiles\": 4.927715167292788}, {\"sample_means\": 4.940921572423566, \"quantiles\": 4.929524117373505}, {\"sample_means\": 4.942188002347084, \"quantiles\": 4.931331224375699}, {\"sample_means\": 4.943056745314252, \"quantiles\": 4.93313653916759}, {\"sample_means\": 4.946345632966434, \"quantiles\": 4.934940112279367}, {\"sample_means\": 4.946816846404547, \"quantiles\": 4.93674199391389}, {\"sample_means\": 4.946860217443334, \"quantiles\": 4.938542233957235}, {\"sample_means\": 4.948026786225338, \"quantiles\": 4.940340881989074}, {\"sample_means\": 4.949113267896886, \"quantiles\": 4.94213798729291}, {\"sample_means\": 4.949804475158611, \"quantiles\": 4.943933598866163}, {\"sample_means\": 4.9567413899175685, \"quantiles\": 4.945727765430113}, {\"sample_means\": 4.96165694816705, \"quantiles\": 4.947520535439707}, {\"sample_means\": 4.962469334708077, \"quantiles\": 4.9493119570932445}, {\"sample_means\": 4.9629295306405865, \"quantiles\": 4.951102078341928}, {\"sample_means\": 4.963683570199935, \"quantiles\": 4.952890946899301}, {\"sample_means\": 4.967930748078584, \"quantiles\": 4.954678610250569}, {\"sample_means\": 4.9693598253026945, \"quantiles\": 4.956465115661806}, {\"sample_means\": 4.970409097128866, \"quantiles\": 4.958250510189068}, {\"sample_means\": 4.974494968840748, \"quantiles\": 4.960034840687398}, {\"sample_means\": 4.97756365328976, \"quantiles\": 4.961818153819733}, {\"sample_means\": 4.980400491981682, \"quantiles\": 4.963600496065727}, {\"sample_means\": 4.981785811340993, \"quantiles\": 4.965381913730485}, {\"sample_means\": 4.984756926901482, \"quantiles\": 4.967162452953215}, {\"sample_means\": 4.98568810497879, \"quantiles\": 4.968942159715798}, {\"sample_means\": 4.986777208033533, \"quantiles\": 4.970721079851293}, {\"sample_means\": 4.987191070416065, \"quantiles\": 4.972499259052363}, {\"sample_means\": 4.988056795448276, \"quantiles\": 4.974276742879644}, {\"sample_means\": 4.990055919104979, \"quantiles\": 4.9760535767700445}, {\"sample_means\": 4.990750768353049, \"quantiles\": 4.977829806044997}, {\"sample_means\": 4.990922817073616, \"quantiles\": 4.979605475918649}, {\"sample_means\": 4.993913202980553, \"quantiles\": 4.981380631506002}, {\"sample_means\": 4.999846914737082, \"quantiles\": 4.983155317831018}, {\"sample_means\": 5.0011365564846075, \"quantiles\": 4.984929579834669}, {\"sample_means\": 5.001697160483199, \"quantiles\": 4.986703462382955}, {\"sample_means\": 5.002390438035624, \"quantiles\": 4.988477010274893}, {\"sample_means\": 5.003691859144235, \"quantiles\": 4.990250268250462}, {\"sample_means\": 5.004107798739524, \"quantiles\": 4.992023280998534}, {\"sample_means\": 5.006967401349398, \"quantiles\": 4.993796093164774}, {\"sample_means\": 5.009406438072179, \"quantiles\": 4.995568749359525}, {\"sample_means\": 5.010858000835101, \"quantiles\": 4.99734129416567}, {\"sample_means\": 5.011792710280099, \"quantiles\": 4.99911377214649}, {\"sample_means\": 5.016166919807599, \"quantiles\": 5.00088622785351}, {\"sample_means\": 5.017756154583829, \"quantiles\": 5.00265870583433}, {\"sample_means\": 5.018923738544173, \"quantiles\": 5.004431250640475}, {\"sample_means\": 5.019693352524616, \"quantiles\": 5.006203906835226}, {\"sample_means\": 5.019887793527518, \"quantiles\": 5.007976719001466}, {\"sample_means\": 5.020235964993304, \"quantiles\": 5.009749731749538}, {\"sample_means\": 5.021601246562512, \"quantiles\": 5.011522989725107}, {\"sample_means\": 5.028212255954064, \"quantiles\": 5.013296537617045}, {\"sample_means\": 5.030891329484243, \"quantiles\": 5.015070420165331}, {\"sample_means\": 5.031542730626726, \"quantiles\": 5.016844682168982}, {\"sample_means\": 5.032530325273359, \"quantiles\": 5.018619368493998}, {\"sample_means\": 5.032920986440297, \"quantiles\": 5.020394524081351}, {\"sample_means\": 5.033143245635539, \"quantiles\": 5.022170193955003}, {\"sample_means\": 5.038410127585293, \"quantiles\": 5.0239464232299555}, {\"sample_means\": 5.0384341137089965, \"quantiles\": 5.025723257120356}, {\"sample_means\": 5.042465514896292, \"quantiles\": 5.027500740947637}, {\"sample_means\": 5.045446887307278, \"quantiles\": 5.029278920148707}, {\"sample_means\": 5.046359670527063, \"quantiles\": 5.031057840284202}, {\"sample_means\": 5.048482066947102, \"quantiles\": 5.032837547046785}, {\"sample_means\": 5.050752046464677, \"quantiles\": 5.034618086269515}, {\"sample_means\": 5.053738360940391, \"quantiles\": 5.036399503934273}, {\"sample_means\": 5.05406329953129, \"quantiles\": 5.038181846180267}, {\"sample_means\": 5.0560895538148625, \"quantiles\": 5.039965159312602}, {\"sample_means\": 5.056319567513288, \"quantiles\": 5.041749489810932}, {\"sample_means\": 5.056980826844626, \"quantiles\": 5.043534884338194}, {\"sample_means\": 5.057153704327688, \"quantiles\": 5.045321389749431}, {\"sample_means\": 5.0600013373707835, \"quantiles\": 5.047109053100699}, {\"sample_means\": 5.062644244808719, \"quantiles\": 5.048897921658072}, {\"sample_means\": 5.063407827373911, \"quantiles\": 5.0506880429067555}, {\"sample_means\": 5.063900195632872, \"quantiles\": 5.052479464560293}, {\"sample_means\": 5.064166142515031, \"quantiles\": 5.054272234569887}, {\"sample_means\": 5.069344425873712, \"quantiles\": 5.056066401133837}, {\"sample_means\": 5.069599028440004, \"quantiles\": 5.05786201270709}, {\"sample_means\": 5.072039505832175, \"quantiles\": 5.059659118010926}, {\"sample_means\": 5.0740615201453405, \"quantiles\": 5.061457766042765}, {\"sample_means\": 5.075396642697158, \"quantiles\": 5.06325800608611}, {\"sample_means\": 5.078417275537812, \"quantiles\": 5.065059887720633}, {\"sample_means\": 5.0790917750401485, \"quantiles\": 5.06686346083241}, {\"sample_means\": 5.08156503878092, \"quantiles\": 5.068668775624301}, {\"sample_means\": 5.0816977395204015, \"quantiles\": 5.070475882626495}, {\"sample_means\": 5.082019167537825, \"quantiles\": 5.072284832707212}, {\"sample_means\": 5.082224101002941, \"quantiles\": 5.074095677083586}, {\"sample_means\": 5.084190045768727, \"quantiles\": 5.0759084673327095}, {\"sample_means\": 5.097458183109204, \"quantiles\": 5.0777232554028755}, {\"sample_means\": 5.098171049495504, \"quantiles\": 5.0795400936250035}, {\"sample_means\": 5.1009358952637305, \"quantiles\": 5.081359034724261}, {\"sample_means\": 5.10369937131425, \"quantiles\": 5.083180131831889}, {\"sample_means\": 5.104374028687738, \"quantiles\": 5.085003438497247}, {\"sample_means\": 5.107795285414949, \"quantiles\": 5.086829008700063}, {\"sample_means\": 5.108086169501529, \"quantiles\": 5.088656896862923}, {\"sample_means\": 5.108266614146799, \"quantiles\": 5.090487157863988}, {\"sample_means\": 5.110288980173645, \"quantiles\": 5.092319847049957}, {\"sample_means\": 5.110865413988966, \"quantiles\": 5.094155020249282}, {\"sample_means\": 5.11092905451918, \"quantiles\": 5.095992733785638}, {\"sample_means\": 5.11134484337901, \"quantiles\": 5.097833044491672}, {\"sample_means\": 5.111400461147639, \"quantiles\": 5.099676009723022}, {\"sample_means\": 5.112160220124688, \"quantiles\": 5.101521687372628}, {\"sample_means\": 5.114785746918747, \"quantiles\": 5.103370135885343}, {\"sample_means\": 5.117120061524742, \"quantiles\": 5.105221414272848}, {\"sample_means\": 5.11805075749418, \"quantiles\": 5.107075582128893}, {\"sample_means\": 5.118540205628222, \"quantiles\": 5.108932699644861}, {\"sample_means\": 5.11931928408912, \"quantiles\": 5.110792827625681}, {\"sample_means\": 5.119335786658649, \"quantiles\": 5.112656027506089}, {\"sample_means\": 5.119555575538254, \"quantiles\": 5.114522361367256}, {\"sample_means\": 5.120334442448389, \"quantiles\": 5.116391891953798}, {\"sample_means\": 5.121296469670661, \"quantiles\": 5.118264682691172}, {\"sample_means\": 5.12544944560863, \"quantiles\": 5.120140797703479}, {\"sample_means\": 5.1262184074081665, \"quantiles\": 5.122020301831691}, {\"sample_means\": 5.127572060128943, \"quantiles\": 5.123903260652299}, {\"sample_means\": 5.128513064023793, \"quantiles\": 5.125789740496426}, {\"sample_means\": 5.129309803737143, \"quantiles\": 5.127679808469387}, {\"sample_means\": 5.131302409691537, \"quantiles\": 5.129573532470744}, {\"sample_means\": 5.134414742022991, \"quantiles\": 5.131470981214848}, {\"sample_means\": 5.136739889878714, \"quantiles\": 5.133372224251902}, {\"sample_means\": 5.138850205634508, \"quantiles\": 5.135277331989548}, {\"sample_means\": 5.13893110181584, \"quantiles\": 5.137186375715017}, {\"sample_means\": 5.140181760822623, \"quantiles\": 5.13909942761784}, {\"sample_means\": 5.140939852386461, \"quantiles\": 5.141016560813151}, {\"sample_means\": 5.14512113903314, \"quantiles\": 5.142937849365611}, {\"sample_means\": 5.1544046663743055, \"quantiles\": 5.144863368313953}, {\"sample_means\": 5.157279487506513, \"quantiles\": 5.14679319369619}, {\"sample_means\": 5.163299273801827, \"quantiles\": 5.148727402575509}, {\"sample_means\": 5.166782915268551, \"quantiles\": 5.150666073066853}, {\"sample_means\": 5.170507926281937, \"quantiles\": 5.152609284364252}, {\"sample_means\": 5.171685966801701, \"quantiles\": 5.154557116768901}, {\"sample_means\": 5.1797147719768155, \"quantiles\": 5.156509651718018}, {\"sample_means\": 5.185902930949384, \"quantiles\": 5.158466971814531}, {\"sample_means\": 5.18782353742743, \"quantiles\": 5.160429160857591}, {\"sample_means\": 5.187883235397087, \"quantiles\": 5.162396303873971}, {\"sample_means\": 5.18893322099136, \"quantiles\": 5.164368487150368}, {\"sample_means\": 5.189237533079839, \"quantiles\": 5.166345798266647}, {\"sample_means\": 5.189596929352725, \"quantiles\": 5.168328326130064}, {\"sample_means\": 5.190643533440489, \"quantiles\": 5.170316161010497}, {\"sample_means\": 5.194301158624548, \"quantiles\": 5.172309394576739}, {\"sample_means\": 5.196978049054974, \"quantiles\": 5.174308119933868}, {\"sample_means\": 5.203792912485893, \"quantiles\": 5.176312431661775}, {\"sample_means\": 5.204301939647604, \"quantiles\": 5.1783224258548435}, {\"sample_means\": 5.216847425969798, \"quantiles\": 5.180338200162879}, {\"sample_means\": 5.217024893495843, \"quantiles\": 5.18235985383329}, {\"sample_means\": 5.217061932066558, \"quantiles\": 5.184387487754606}, {\"sample_means\": 5.218916994298821, \"quantiles\": 5.186421204501362}, {\"sample_means\": 5.220049468125831, \"quantiles\": 5.1884611083804195}, {\"sample_means\": 5.222017581675907, \"quantiles\": 5.190507305478766}, {\"sample_means\": 5.224856983518557, \"quantiles\": 5.192559903712871}, {\"sample_means\": 5.225444498267293, \"quantiles\": 5.1946190128796434}, {\"sample_means\": 5.227164615626877, \"quantiles\": 5.196684744709072}, {\"sample_means\": 5.229016596855664, \"quantiles\": 5.1987572129186015}, {\"sample_means\": 5.230424642959665, \"quantiles\": 5.200836533269337}, {\"sample_means\": 5.233102220262172, \"quantiles\": 5.202922823624129}, {\"sample_means\": 5.233631859742998, \"quantiles\": 5.205016204007639}, {\"sample_means\": 5.2366693912335185, \"quantiles\": 5.207116796668455}, {\"sample_means\": 5.241827185422, \"quantiles\": 5.209224726143351}, {\"sample_means\": 5.253650804030801, \"quantiles\": 5.211340119323781}, {\"sample_means\": 5.257148754965865, \"quantiles\": 5.213463105524704}, {\"sample_means\": 5.25806666382768, \"quantiles\": 5.2155938165558355}, {\"sample_means\": 5.258718852397428, \"quantiles\": 5.217732386795447}, {\"sample_means\": 5.259303813554168, \"quantiles\": 5.219878953266803}, {\"sample_means\": 5.261368245849969, \"quantiles\": 5.222033655717371}, {\"sample_means\": 5.26453513365641, \"quantiles\": 5.224196636700928}, {\"sample_means\": 5.264777718047149, \"quantiles\": 5.2263680416626705}, {\"sample_means\": 5.264950424514645, \"quantiles\": 5.228548019027507}, {\"sample_means\": 5.2649931173362585, \"quantiles\": 5.230736720291623}, {\"sample_means\": 5.265013051358785, \"quantiles\": 5.232934300117528}, {\"sample_means\": 5.265580078818889, \"quantiles\": 5.235140916432699}, {\"sample_means\": 5.272463932971985, \"quantiles\": 5.237356730532008}, {\"sample_means\": 5.273591953891245, \"quantiles\": 5.239581907184123}, {\"sample_means\": 5.275122322647755, \"quantiles\": 5.241816614742039}, {\"sample_means\": 5.277548885015988, \"quantiles\": 5.244061025257979}, {\"sample_means\": 5.277755077640079, \"quantiles\": 5.246315314602835}, {\"sample_means\": 5.279761155106683, \"quantiles\": 5.248579662590394}, {\"sample_means\": 5.280211103446909, \"quantiles\": 5.250854253106584}, {\"sample_means\": 5.2846700887307385, \"quantiles\": 5.253139274243969}, {\"sample_means\": 5.293926297117489, \"quantiles\": 5.255434918441781}, {\"sample_means\": 5.2975835795680135, \"quantiles\": 5.257741382631746}, {\"sample_means\": 5.298618115258617, \"quantiles\": 5.260058868390012}, {\"sample_means\": 5.299439684728383, \"quantiles\": 5.262387582095475}, {\"sample_means\": 5.300172764081208, \"quantiles\": 5.264727735094854}, {\"sample_means\": 5.301907741513564, \"quantiles\": 5.267079543874851}, {\"sample_means\": 5.307240896589053, \"quantiles\": 5.269443230241774}, {\"sample_means\": 5.307911013300656, \"quantiles\": 5.271819021509014}, {\"sample_means\": 5.308221781263665, \"quantiles\": 5.274207150692801}, {\"sample_means\": 5.308256408998396, \"quantiles\": 5.276607856716688}, {\"sample_means\": 5.309809171441138, \"quantiles\": 5.279021384625223}, {\"sample_means\": 5.314476803341865, \"quantiles\": 5.281447985807341}, {\"sample_means\": 5.314948428563921, \"quantiles\": 5.2838879182299765}, {\"sample_means\": 5.314973836976706, \"quantiles\": 5.286341446682518}, {\"sample_means\": 5.317877093793635, \"quantiles\": 5.288808843032668}, {\"sample_means\": 5.3183043843079085, \"quantiles\": 5.291290386494398}, {\"sample_means\": 5.3183110487012994, \"quantiles\": 5.29378636390867}, {\"sample_means\": 5.32043522374832, \"quantiles\": 5.296297070037684}, {\"sample_means\": 5.320962393902509, \"quantiles\": 5.298822807873438}, {\"sample_means\": 5.324491574879571, \"quantiles\": 5.301363888961454}, {\"sample_means\": 5.333304194862462, \"quantiles\": 5.3039206337405815}, {\"sample_means\": 5.335745794291736, \"quantiles\": 5.306493371899843}, {\"sample_means\": 5.33950130138084, \"quantiles\": 5.309082442753384}, {\"sample_means\": 5.339907401842554, \"quantiles\": 5.311688195634627}, {\"sample_means\": 5.340622232616861, \"quantiles\": 5.314310990310843}, {\"sample_means\": 5.343967870937437, \"quantiles\": 5.316951197419436}, {\"sample_means\": 5.345445103146692, \"quantiles\": 5.319609198927309}, {\"sample_means\": 5.351378791314374, \"quantiles\": 5.3222853886148265}, {\"sample_means\": 5.366679441733458, \"quantiles\": 5.324980172585957}, {\"sample_means\": 5.366890340051828, \"quantiles\": 5.327693969806352}, {\"sample_means\": 5.368408970691485, \"quantiles\": 5.330427212671193}, {\"sample_means\": 5.375460707773309, \"quantiles\": 5.33318034760486}, {\"sample_means\": 5.378892145139778, \"quantiles\": 5.335953835694559}, {\"sample_means\": 5.382694129602012, \"quantiles\": 5.338748153360282}, {\"sample_means\": 5.383119724879658, \"quantiles\": 5.341563793063633}, {\"sample_means\": 5.3839700156908785, \"quantiles\": 5.344401264058278}, {\"sample_means\": 5.387284127414116, \"quantiles\": 5.347261093185001}, {\"sample_means\": 5.395129026904949, \"quantiles\": 5.350143825714599}, {\"sample_means\": 5.403944524049567, \"quantiles\": 5.353050026242153}, {\"sample_means\": 5.4087922435318125, \"quantiles\": 5.355980279636469}, {\"sample_means\": 5.416879305533557, \"quantiles\": 5.358935192048877}, {\"sample_means\": 5.419039719742115, \"quantiles\": 5.361915391985907}, {\"sample_means\": 5.42010767255249, \"quantiles\": 5.36492153145078}, {\"sample_means\": 5.425210387406662, \"quantiles\": 5.367954287159134}, {\"sample_means\": 5.4264125717131355, \"quantiles\": 5.371014361834856}, {\"sample_means\": 5.4306025713081745, \"quantiles\": 5.374102485592492}, {\"sample_means\": 5.4309695108132, \"quantiles\": 5.377219417413311}, {\"sample_means\": 5.435796151017712, \"quantiles\": 5.3803659467227645}, {\"sample_means\": 5.440928820538656, \"quantiles\": 5.38354289507788}, {\"sample_means\": 5.445999854135598, \"quantiles\": 5.386751117973951}, {\"sample_means\": 5.447445139270773, \"quantiles\": 5.389991506780851}, {\"sample_means\": 5.4478387992498325, \"quantiles\": 5.39326499082034}, {\"sample_means\": 5.44989453878723, \"quantiles\": 5.3965725395969475}, {\"sample_means\": 5.450935632973449, \"quantiles\": 5.399915165196323}, {\"sample_means\": 5.45694959733494, \"quantiles\": 5.403293924866451}, {\"sample_means\": 5.457747841751466, \"quantiles\": 5.406709923798809}, {\"sample_means\": 5.461389386641472, \"quantiles\": 5.410164318128445}, {\"sample_means\": 5.465032083715514, \"quantiles\": 5.413658318174088}, {\"sample_means\": 5.465799935486409, \"quantiles\": 5.417193191941835}, {\"sample_means\": 5.466901107268657, \"quantiles\": 5.420770268918708}, {\"sample_means\": 5.469695580605464, \"quantiles\": 5.424390944185481}, {\"sample_means\": 5.471295706738066, \"quantiles\": 5.428056682881742}, {\"sample_means\": 5.495849580413392, \"quantiles\": 5.431769025060229}, {\"sample_means\": 5.4991748665257925, \"quantiles\": 5.435529590972059}, {\"sample_means\": 5.499670838500706, \"quantiles\": 5.439340086829846}, {\"sample_means\": 5.500596232963284, \"quantiles\": 5.443202311101771}, {\"sample_means\": 5.502165098871896, \"quantiles\": 5.447118161396703}, {\"sample_means\": 5.504747179062744, \"quantiles\": 5.451089642008585}, {\"sample_means\": 5.518283601092126, \"quantiles\": 5.455118872197725}, {\"sample_means\": 5.52693520175075, \"quantiles\": 5.459208095297508}, {\"sample_means\": 5.546170603727335, \"quantiles\": 5.463359688747764}, {\"sample_means\": 5.5595695561188405, \"quantiles\": 5.467576175170895}, {\"sample_means\": 5.576745615975585, \"quantiles\": 5.471860234624201}, {\"sample_means\": 5.583329899351252, \"quantiles\": 5.4762147181823355}, {\"sample_means\": 5.588592963992443, \"quantiles\": 5.480642663027866}, {\"sample_means\": 5.59505265685023, \"quantiles\": 5.485147309256504}, {\"sample_means\": 5.60060096841934, \"quantiles\": 5.489732118637398}, {\"sample_means\": 5.6078146567143525, \"quantiles\": 5.4944007956093195}, {\"sample_means\": 5.613176824367871, \"quantiles\": 5.499157310841976}, {\"sample_means\": 5.613939315519843, \"quantiles\": 5.504005927749817}, {\"sample_means\": 5.617581270301166, \"quantiles\": 5.508951232416014}, {\"sample_means\": 5.623048485924034, \"quantiles\": 5.513998167469502}, {\"sample_means\": 5.6265740596589, \"quantiles\": 5.519152070561983}, {\"sample_means\": 5.626863757789714, \"quantiles\": 5.524418718219132}, {\"sample_means\": 5.630133084962512, \"quantiles\": 5.529804375997294}, {\"sample_means\": 5.630651494571182, \"quantiles\": 5.535315856071474}, {\"sample_means\": 5.633902675273007, \"quantiles\": 5.5409605836230025}, {\"sample_means\": 5.639296549246025, \"quantiles\": 5.546746673699616}, {\"sample_means\": 5.646172534330539, \"quantiles\": 5.552683020605155}, {\"sample_means\": 5.6525252693837675, \"quantiles\": 5.558779402365258}, {\"sample_means\": 5.658449204271936, \"quantiles\": 5.565046603442623}, {\"sample_means\": 5.663507131575668, \"quantiles\": 5.571496559686004}, {\"sample_means\": 5.66411695152123, \"quantiles\": 5.578142530554111}, {\"sample_means\": 5.664545510655419, \"quantiles\": 5.58499930504646}, {\"sample_means\": 5.676072139170392, \"quantiles\": 5.592083449622059}, {\"sample_means\": 5.6880171753255535, \"quantiles\": 5.599413608870787}, {\"sample_means\": 5.691566539002142, \"quantiles\": 5.6070108730784805}, {\"sample_means\": 5.701020120542955, \"quantiles\": 5.6148992314735064}, {\"sample_means\": 5.714816113297856, \"quantiles\": 5.623106136425749}, {\"sample_means\": 5.716817271813292, \"quantiles\": 5.6316632130494755}, {\"sample_means\": 5.743262845460603, \"quantiles\": 5.640607161874531}, {\"sample_means\": 5.753601672104214, \"quantiles\": 5.649980921609479}, {\"sample_means\": 5.764439330983536, \"quantiles\": 5.659835187949408}, {\"sample_means\": 5.778243751262192, \"quantiles\": 5.670230428567944}, {\"sample_means\": 5.787023774480611, \"quantiles\": 5.68123960359658}, {\"sample_means\": 5.792114701624155, \"quantiles\": 5.692951912174839}, {\"sample_means\": 5.79391400203033, \"quantiles\": 5.70547807037697}, {\"sample_means\": 5.8050412937752665, \"quantiles\": 5.718957943608157}, {\"sample_means\": 5.813031640704642, \"quantiles\": 5.733571926333261}, {\"sample_means\": 5.818633875413145, \"quantiles\": 5.749558534209148}, {\"sample_means\": 5.827733524495227, \"quantiles\": 5.767242810888859}, {\"sample_means\": 5.839496276767137, \"quantiles\": 5.787084719220738}, {\"sample_means\": 5.856094246883918, \"quantiles\": 5.809767328921651}, {\"sample_means\": 5.8892079151308785, \"quantiles\": 5.83637230960178}, {\"sample_means\": 5.924311997021071, \"quantiles\": 5.868773803187855}, {\"sample_means\": 5.968552320736477, \"quantiles\": 5.910693183859225}, {\"sample_means\": 6.089343628549962, \"quantiles\": 5.9714874254331605}, {\"sample_means\": 6.167784484586969, \"quantiles\": 6.092562109566502}], \"data-624a5a56c9f5bc2d718bc6a6195090bd\": [{\"x\": 3.9102086682581167, \"y\": 3.9102086682581167}, {\"x\": 6.267784484586969, \"y\": 6.267784484586969}]}}, {\"mode\": \"vega-lite\"});\n",
       "</script>"
      ],
      "text/plain": [
       "alt.LayerChart(...)"
      ]
     },
     "execution_count": 10,
     "metadata": {},
     "output_type": "execute_result"
    }
   ],
   "source": [
    "unit_mesh = [1 - (1 / len(sample_means)) * ix - (0.5 / len(sample_means)) for ix in range(0,len(sample_means))]\n",
    "quantile_vals = [stats.norm.isf(u, loc = 5, scale = clt_scale) for u in unit_mesh]\n",
    "sample_means.sort()\n",
    "quant_df = pd.DataFrame({\n",
    "    \"sample_means\": sample_means,\n",
    "    \"quantiles\": quantile_vals})\n",
    "\n",
    "ab_lims = [min(sample_means)-0.1, max(sample_means)+0.1]\n",
    "abline_df = pd.DataFrame({\"x\": ab_lims, \"y\": ab_lims})\n",
    "\n",
    "quant_points = (alt\n",
    "                   .Chart(quant_df)\n",
    "                   .mark_point()\n",
    "                   .encode(x =  alt.X('sample_means:Q',\n",
    "                                      scale=alt.Scale(zero=False),\n",
    "                                      title = \"Sample mean quantile\"),\n",
    "                           y = alt.Y('quantiles:Q',\n",
    "                                      scale=alt.Scale(zero=False),\n",
    "                                      title = \"Normal quantile\")))\n",
    "\n",
    "ab_line = (alt\n",
    "          .Chart(abline_df)\n",
    "          .mark_line(color = \"red\")\n",
    "          .encode(x = \"x\", y = \"y\"))\n",
    "\n",
    "quant_points + ab_line"
   ]
  },
  {
   "cell_type": "markdown",
   "metadata": {},
   "source": [
    "## Experimental results: flipping coins in series\n",
    "\n",
    "Professor Mittens asked 15 of his students to each take turns flipping a coin 30 times and recording how many heads they got. He has a sneaking suspicion that some of the students did not actually do this properly, that they just wrote down some garbage and went to lunch early. We will help Mittens work out whether the coin that was used was fair, i.e. has an equal chance of showing heads or tails.\n",
    "\n",
    "### Exercise 3 part I\n",
    "\n",
    "Read the data in `experiement1.csv` into a `DataFrame`. Use some of the commands you've seen in lectures to inspect the data, noting that it may not be in the optimal format for analysis."
   ]
  },
  {
   "cell_type": "code",
   "execution_count": 12,
   "metadata": {},
   "outputs": [
    {
     "data": {
      "text/html": [
       "<div>\n",
       "<style scoped>\n",
       "    .dataframe tbody tr th:only-of-type {\n",
       "        vertical-align: middle;\n",
       "    }\n",
       "\n",
       "    .dataframe tbody tr th {\n",
       "        vertical-align: top;\n",
       "    }\n",
       "\n",
       "    .dataframe thead th {\n",
       "        text-align: right;\n",
       "    }\n",
       "</style>\n",
       "<table border=\"1\" class=\"dataframe\">\n",
       "  <thead>\n",
       "    <tr style=\"text-align: right;\">\n",
       "      <th></th>\n",
       "      <th>name</th>\n",
       "      <th>flip_number</th>\n",
       "      <th>outcome</th>\n",
       "    </tr>\n",
       "  </thead>\n",
       "  <tbody>\n",
       "    <tr>\n",
       "      <th>0</th>\n",
       "      <td>0</td>\n",
       "      <td>1</td>\n",
       "      <td>1</td>\n",
       "    </tr>\n",
       "    <tr>\n",
       "      <th>1</th>\n",
       "      <td>0</td>\n",
       "      <td>2</td>\n",
       "      <td>0</td>\n",
       "    </tr>\n",
       "    <tr>\n",
       "      <th>2</th>\n",
       "      <td>0</td>\n",
       "      <td>3</td>\n",
       "      <td>0</td>\n",
       "    </tr>\n",
       "    <tr>\n",
       "      <th>3</th>\n",
       "      <td>0</td>\n",
       "      <td>4</td>\n",
       "      <td>0</td>\n",
       "    </tr>\n",
       "    <tr>\n",
       "      <th>4</th>\n",
       "      <td>0</td>\n",
       "      <td>5</td>\n",
       "      <td>0</td>\n",
       "    </tr>\n",
       "    <tr>\n",
       "      <th>...</th>\n",
       "      <td>...</td>\n",
       "      <td>...</td>\n",
       "      <td>...</td>\n",
       "    </tr>\n",
       "    <tr>\n",
       "      <th>445</th>\n",
       "      <td>14</td>\n",
       "      <td>26</td>\n",
       "      <td>1</td>\n",
       "    </tr>\n",
       "    <tr>\n",
       "      <th>446</th>\n",
       "      <td>14</td>\n",
       "      <td>27</td>\n",
       "      <td>1</td>\n",
       "    </tr>\n",
       "    <tr>\n",
       "      <th>447</th>\n",
       "      <td>14</td>\n",
       "      <td>28</td>\n",
       "      <td>1</td>\n",
       "    </tr>\n",
       "    <tr>\n",
       "      <th>448</th>\n",
       "      <td>14</td>\n",
       "      <td>29</td>\n",
       "      <td>1</td>\n",
       "    </tr>\n",
       "    <tr>\n",
       "      <th>449</th>\n",
       "      <td>14</td>\n",
       "      <td>30</td>\n",
       "      <td>1</td>\n",
       "    </tr>\n",
       "  </tbody>\n",
       "</table>\n",
       "<p>450 rows × 3 columns</p>\n",
       "</div>"
      ],
      "text/plain": [
       "     name  flip_number  outcome\n",
       "0       0            1        1\n",
       "1       0            2        0\n",
       "2       0            3        0\n",
       "3       0            4        0\n",
       "4       0            5        0\n",
       "..    ...          ...      ...\n",
       "445    14           26        1\n",
       "446    14           27        1\n",
       "447    14           28        1\n",
       "448    14           29        1\n",
       "449    14           30        1\n",
       "\n",
       "[450 rows x 3 columns]"
      ]
     },
     "execution_count": 12,
     "metadata": {},
     "output_type": "execute_result"
    }
   ],
   "source": [
    "exp1 = pd.read_csv(\"experiment1.csv\")\n",
    "exp1"
   ]
  },
  {
   "cell_type": "markdown",
   "metadata": {},
   "source": [
    "### Exercise 3 part II\n",
    "\n",
    "Compute the point estimate and CI using the function you wrote above. Write a sentence explaining whether you think the coin is a _fair_ coin given the results you have just obtained."
   ]
  },
  {
   "cell_type": "code",
   "execution_count": 23,
   "metadata": {},
   "outputs": [
    {
     "name": "stdout",
     "output_type": "stream",
     "text": [
      "(0.49333333333333335, (0.44713979693549655, 0.5395268697311701))\n"
     ]
    }
   ],
   "source": [
    "head_counts = exp1.drop(columns=\"flip_number\").groupby(\"name\").sum()\n",
    "\n",
    "head_counts[\"name\"] = head_counts.index.copy()\n",
    "\n",
    "total_heads = int(head_counts[\"outcome\"].sum())\n",
    "\n",
    "num_people = int(head_counts[\"name\"].unique().size)\n",
    "\n",
    "num_flips = int(exp1[\"name\"].value_counts().unique())\n",
    "\n",
    "est_and_ci = wald_estimate_and_ci(num_success=total_heads, \n",
    "                                  num_trials=num_people * num_flips)\n",
    "\n",
    "print(est_and_ci)"
   ]
  },
  {
   "cell_type": "markdown",
   "metadata": {},
   "source": [
    "### Partial answer\n",
    "\n",
    "We estimate the probability of heads as 0.49 with a $95\\%$ CI of (0.45,0.54). We are not able to reject the null hypothesis that the coin is fair."
   ]
  },
  {
   "cell_type": "markdown",
   "metadata": {},
   "source": [
    "### Exercise 3 part III\n",
    "\n",
    "Generate a histogram of the number of heads from each student. As an extension, include the binomial distribution supported by your estimate that is most amenable to large value outcomes."
   ]
  },
  {
   "cell_type": "code",
   "execution_count": 16,
   "metadata": {},
   "outputs": [
    {
     "data": {
      "text/html": [
       "\n",
       "<div id=\"altair-viz-6c305eb4dc5041bfad71418bb2be8094\"></div>\n",
       "<script type=\"text/javascript\">\n",
       "  (function(spec, embedOpt){\n",
       "    let outputDiv = document.currentScript.previousElementSibling;\n",
       "    if (outputDiv.id !== \"altair-viz-6c305eb4dc5041bfad71418bb2be8094\") {\n",
       "      outputDiv = document.getElementById(\"altair-viz-6c305eb4dc5041bfad71418bb2be8094\");\n",
       "    }\n",
       "    const paths = {\n",
       "      \"vega\": \"https://cdn.jsdelivr.net/npm//vega@5?noext\",\n",
       "      \"vega-lib\": \"https://cdn.jsdelivr.net/npm//vega-lib?noext\",\n",
       "      \"vega-lite\": \"https://cdn.jsdelivr.net/npm//vega-lite@4.8.1?noext\",\n",
       "      \"vega-embed\": \"https://cdn.jsdelivr.net/npm//vega-embed@6?noext\",\n",
       "    };\n",
       "\n",
       "    function loadScript(lib) {\n",
       "      return new Promise(function(resolve, reject) {\n",
       "        var s = document.createElement('script');\n",
       "        s.src = paths[lib];\n",
       "        s.async = true;\n",
       "        s.onload = () => resolve(paths[lib]);\n",
       "        s.onerror = () => reject(`Error loading script: ${paths[lib]}`);\n",
       "        document.getElementsByTagName(\"head\")[0].appendChild(s);\n",
       "      });\n",
       "    }\n",
       "\n",
       "    function showError(err) {\n",
       "      outputDiv.innerHTML = `<div class=\"error\" style=\"color:red;\">${err}</div>`;\n",
       "      throw err;\n",
       "    }\n",
       "\n",
       "    function displayChart(vegaEmbed) {\n",
       "      vegaEmbed(outputDiv, spec, embedOpt)\n",
       "        .catch(err => showError(`Javascript Error: ${err.message}<br>This usually means there's a typo in your chart specification. See the javascript console for the full traceback.`));\n",
       "    }\n",
       "\n",
       "    if(typeof define === \"function\" && define.amd) {\n",
       "      requirejs.config({paths});\n",
       "      require([\"vega-embed\"], displayChart, err => showError(`Error loading script: ${err.message}`));\n",
       "    } else if (typeof vegaEmbed === \"function\") {\n",
       "      displayChart(vegaEmbed);\n",
       "    } else {\n",
       "      loadScript(\"vega\")\n",
       "        .then(() => loadScript(\"vega-lite\"))\n",
       "        .then(() => loadScript(\"vega-embed\"))\n",
       "        .catch(showError)\n",
       "        .then(() => displayChart(vegaEmbed));\n",
       "    }\n",
       "  })({\"config\": {\"view\": {\"continuousWidth\": 400, \"continuousHeight\": 300}}, \"layer\": [{\"data\": {\"name\": \"data-3e36b5971c6b02f0d186c5079c3e0618\"}, \"mark\": \"bar\", \"encoding\": {\"x\": {\"type\": \"quantitative\", \"bin\": {\"step\": 1}, \"field\": \"outcome\", \"title\": \"Number of heads\"}, \"y\": {\"type\": \"quantitative\", \"aggregate\": \"count\", \"title\": \"Number of occurences\"}}}, {\"data\": {\"name\": \"data-4613521709c457d01da895383a998db8\"}, \"mark\": {\"type\": \"line\", \"color\": \"firebrick\"}, \"encoding\": {\"x\": {\"type\": \"quantitative\", \"field\": \"value\"}, \"y\": {\"type\": \"quantitative\", \"field\": \"prob\"}}}], \"$schema\": \"https://vega.github.io/schema/vega-lite/v4.8.1.json\", \"datasets\": {\"data-3e36b5971c6b02f0d186c5079c3e0618\": [{\"outcome\": 9, \"name\": 0}, {\"outcome\": 13, \"name\": 1}, {\"outcome\": 17, \"name\": 2}, {\"outcome\": 17, \"name\": 3}, {\"outcome\": 14, \"name\": 4}, {\"outcome\": 7, \"name\": 5}, {\"outcome\": 13, \"name\": 6}, {\"outcome\": 13, \"name\": 7}, {\"outcome\": 12, \"name\": 8}, {\"outcome\": 14, \"name\": 9}, {\"outcome\": 10, \"name\": 10}, {\"outcome\": 11, \"name\": 11}, {\"outcome\": 12, \"name\": 12}, {\"outcome\": 30, \"name\": 13}, {\"outcome\": 30, \"name\": 14}], \"data-4613521709c457d01da895383a998db8\": [{\"value\": 0, \"prob\": 1.1450546362065457e-09}, {\"value\": 1, \"prob\": 4.032583718814366e-08}, {\"value\": 2, \"prob\": 6.864158808329565e-07}, {\"value\": 3, \"prob\": 7.520730520430768e-06}, {\"value\": 4, \"prob\": 5.959361466732567e-05}, {\"value\": 5, \"prob\": 0.0003637801521431553}, {\"value\": 6, \"prob\": 0.0017793594398306492}, {\"value\": 7, \"prob\": 0.007161645447268672}, {\"value\": 8, \"prob\": 0.024170553384531807}, {\"value\": 9, \"prob\": 0.06935897927735224}, {\"value\": 10, \"prob\": 0.17098496195764695}, {\"value\": 11, \"prob\": 0.3649481401467555}, {\"value\": 12, \"prob\": 0.6783275213597293}, {\"value\": 13, \"prob\": 1.102565803949264}, {\"value\": 14, \"prob\": 1.5716698882382267}, {\"value\": 15, \"prob\": 1.9680040339678666}, {\"value\": 16, \"prob\": 2.1658740047744187}, {\"value\": 17, \"prob\": 2.093862848605462}, {\"value\": 18, \"prob\": 1.7752315455567964}, {\"value\": 19, \"prob\": 1.3161899788567573}, {\"value\": 20, \"prob\": 0.8498009211314304}, {\"value\": 21, \"prob\": 0.4750439931790591}, {\"value\": 22, \"prob\": 0.22813377538045693}, {\"value\": 23, \"prob\": 0.09315103115723748}, {\"value\": 24, \"prob\": 0.031894103059271685}, {\"value\": 25, \"prob\": 0.00898581686191657}, {\"value\": 26, \"prob\": 0.0020285706962520533}, {\"value\": 27, \"prob\": 0.00035279490369601377}, {\"value\": 28, \"prob\": 4.437327204872156e-05}, {\"value\": 29, \"prob\": 3.592438816538233e-06}, {\"value\": 30, \"prob\": 1.4057369282106098e-07}]}}, {\"mode\": \"vega-lite\"});\n",
       "</script>"
      ],
      "text/plain": [
       "alt.LayerChart(...)"
      ]
     },
     "execution_count": 16,
     "metadata": {},
     "output_type": "execute_result"
    }
   ],
   "source": [
    "fig_1_a = (alt\n",
    "           .Chart(head_counts)\n",
    "           .mark_bar()\n",
    "           .encode(alt.X(\"outcome:Q\",\n",
    "                         bin = alt.BinParams(step = 1),\n",
    "                         title = \"Number of heads\"),\n",
    "                   y = alt.Y(\"count()\",\n",
    "                            title = \"Number of occurences\")))\n",
    "\n",
    "k_vals = range(0,31)\n",
    "k_probs = [num_people * stats.binom.pmf(k = k, n = num_flips, p = 0.540) for k in k_vals]\n",
    "binom_dist_df = pd.DataFrame({\"value\": k_vals,\n",
    "                              \"prob\": k_probs})\n",
    "\n",
    "fig_1_b = (alt\n",
    "           .Chart(binom_dist_df)\n",
    "           .mark_line(color= \"firebrick\")\n",
    "           .encode(x = \"value\", \n",
    "                   y = \"prob\"))\n",
    "\n",
    "\n",
    "fig_1_a + fig_1_b"
   ]
  },
  {
   "cell_type": "markdown",
   "metadata": {},
   "source": [
    "### Exercise 4 part I\n",
    "\n",
    "It looks like there might be a couple of strange points in this dataset as Mittens suspected. Using the upper bound on $p$ calculate the probability of someone getting all heads. Write a couple of sentences explaining whether you think it is reasonable to remove those data points."
   ]
  },
  {
   "cell_type": "code",
   "execution_count": 29,
   "metadata": {},
   "outputs": [
    {
     "data": {
      "text/plain": [
       "9.371579521404065e-09"
      ]
     },
     "execution_count": 29,
     "metadata": {},
     "output_type": "execute_result"
    }
   ],
   "source": [
    "stats.binom.pmf(k = 30, n = 30, p = 0.54)"
   ]
  },
  {
   "cell_type": "markdown",
   "metadata": {},
   "source": [
    "### Partial answer\n",
    "\n",
    "- Even allowing for a high estimate of the probability of heads it seems exceedingly probable that the 30 heads are due to data input errors, hence we removed them from the data set prior to further analysis."
   ]
  },
  {
   "cell_type": "markdown",
   "metadata": {},
   "source": [
    "### Exercise 4 part II\n",
    "\n",
    "Remove the outliers and repeat the process of plotting the data and estimating the parameters and CI. Once you have done this, plot the distribution of the estimated binomial distribution on top of the histogram. Write a couple of sentences explaining what you think about the coin now."
   ]
  },
  {
   "cell_type": "code",
   "execution_count": 30,
   "metadata": {},
   "outputs": [
    {
     "data": {
      "text/plain": [
       "(0.4153846153846154, (0.3664761437453554, 0.4642930870238754))"
      ]
     },
     "execution_count": 30,
     "metadata": {},
     "output_type": "execute_result"
    }
   ],
   "source": [
    "head_counts_clean = head_counts.loc[head_counts[\"outcome\"] < 30]\n",
    "\n",
    "total_heads_clean = int(head_counts_clean[\"outcome\"].sum())\n",
    "num_people_clean = int(head_counts_clean[\"name\"].unique().size)\n",
    "\n",
    "wald_estimate_and_ci(num_success=total_heads_clean, num_trials=num_people_clean * num_flips)"
   ]
  },
  {
   "cell_type": "code",
   "execution_count": 31,
   "metadata": {},
   "outputs": [
    {
     "data": {
      "text/html": [
       "\n",
       "<div id=\"altair-viz-2121b3218c814b929f86cd661b0b2ce2\"></div>\n",
       "<script type=\"text/javascript\">\n",
       "  (function(spec, embedOpt){\n",
       "    let outputDiv = document.currentScript.previousElementSibling;\n",
       "    if (outputDiv.id !== \"altair-viz-2121b3218c814b929f86cd661b0b2ce2\") {\n",
       "      outputDiv = document.getElementById(\"altair-viz-2121b3218c814b929f86cd661b0b2ce2\");\n",
       "    }\n",
       "    const paths = {\n",
       "      \"vega\": \"https://cdn.jsdelivr.net/npm//vega@5?noext\",\n",
       "      \"vega-lib\": \"https://cdn.jsdelivr.net/npm//vega-lib?noext\",\n",
       "      \"vega-lite\": \"https://cdn.jsdelivr.net/npm//vega-lite@4.8.1?noext\",\n",
       "      \"vega-embed\": \"https://cdn.jsdelivr.net/npm//vega-embed@6?noext\",\n",
       "    };\n",
       "\n",
       "    function loadScript(lib) {\n",
       "      return new Promise(function(resolve, reject) {\n",
       "        var s = document.createElement('script');\n",
       "        s.src = paths[lib];\n",
       "        s.async = true;\n",
       "        s.onload = () => resolve(paths[lib]);\n",
       "        s.onerror = () => reject(`Error loading script: ${paths[lib]}`);\n",
       "        document.getElementsByTagName(\"head\")[0].appendChild(s);\n",
       "      });\n",
       "    }\n",
       "\n",
       "    function showError(err) {\n",
       "      outputDiv.innerHTML = `<div class=\"error\" style=\"color:red;\">${err}</div>`;\n",
       "      throw err;\n",
       "    }\n",
       "\n",
       "    function displayChart(vegaEmbed) {\n",
       "      vegaEmbed(outputDiv, spec, embedOpt)\n",
       "        .catch(err => showError(`Javascript Error: ${err.message}<br>This usually means there's a typo in your chart specification. See the javascript console for the full traceback.`));\n",
       "    }\n",
       "\n",
       "    if(typeof define === \"function\" && define.amd) {\n",
       "      requirejs.config({paths});\n",
       "      require([\"vega-embed\"], displayChart, err => showError(`Error loading script: ${err.message}`));\n",
       "    } else if (typeof vegaEmbed === \"function\") {\n",
       "      displayChart(vegaEmbed);\n",
       "    } else {\n",
       "      loadScript(\"vega\")\n",
       "        .then(() => loadScript(\"vega-lite\"))\n",
       "        .then(() => loadScript(\"vega-embed\"))\n",
       "        .catch(showError)\n",
       "        .then(() => displayChart(vegaEmbed));\n",
       "    }\n",
       "  })({\"config\": {\"view\": {\"continuousWidth\": 400, \"continuousHeight\": 300}}, \"layer\": [{\"data\": {\"name\": \"data-651c4f148c5a2518b55f662c52a2ece8\"}, \"mark\": \"bar\", \"encoding\": {\"x\": {\"type\": \"quantitative\", \"bin\": {\"step\": 1}, \"field\": \"outcome\", \"title\": \"Number of heads\"}, \"y\": {\"type\": \"quantitative\", \"aggregate\": \"count\", \"title\": \"Number of occurences\"}}}, {\"data\": {\"name\": \"data-ab22dc75b6d2ed234cd27ae96f358227\"}, \"mark\": {\"type\": \"line\", \"color\": \"firebrick\"}, \"encoding\": {\"x\": {\"type\": \"quantitative\", \"field\": \"value\"}, \"y\": {\"type\": \"quantitative\", \"field\": \"prob\"}}}], \"$schema\": \"https://vega.github.io/schema/vega-lite/v4.8.1.json\", \"datasets\": {\"data-651c4f148c5a2518b55f662c52a2ece8\": [{\"outcome\": 9, \"name\": 0}, {\"outcome\": 13, \"name\": 1}, {\"outcome\": 17, \"name\": 2}, {\"outcome\": 17, \"name\": 3}, {\"outcome\": 14, \"name\": 4}, {\"outcome\": 7, \"name\": 5}, {\"outcome\": 13, \"name\": 6}, {\"outcome\": 13, \"name\": 7}, {\"outcome\": 12, \"name\": 8}, {\"outcome\": 14, \"name\": 9}, {\"outcome\": 10, \"name\": 10}, {\"outcome\": 11, \"name\": 11}, {\"outcome\": 12, \"name\": 12}], \"data-ab22dc75b6d2ed234cd27ae96f358227\": [{\"value\": 0, \"prob\": 1.3446812053531815e-06}, {\"value\": 1, \"prob\": 2.861757437033696e-05}, {\"value\": 2, \"prob\": 0.0002943696645700855}, {\"value\": 3, \"prob\": 0.0019490458702589434}, {\"value\": 4, \"prob\": 0.00933293118643215}, {\"value\": 5, \"prob\": 0.03442814615439438}, {\"value\": 6, \"prob\": 0.10176410722274656}, {\"value\": 7, \"prob\": 0.2475141655527599}, {\"value\": 8, \"prob\": 0.5048125449147636}, {\"value\": 9, \"prob\": 0.8753919344865728}, {\"value\": 10, \"prob\": 1.3041095229146151}, {\"value\": 11, \"prob\": 1.682068226913952}, {\"value\": 12, \"prob\": 1.889331619546509}, {\"value\": 13, \"prob\": 1.8557931884303078}, {\"value\": 14, \"prob\": 1.5986106159188909}, {\"value\": 15, \"prob\": 1.2096609105072862}, {\"value\": 16, \"prob\": 0.804502047853403}, {\"value\": 17, \"prob\": 0.47000069361772845}, {\"value\": 18, \"prob\": 0.24080282450784726}, {\"value\": 19, \"prob\": 0.10789006442186948}, {\"value\": 20, \"prob\": 0.0420955678705843}, {\"value\": 21, \"prob\": 0.014220318002680022}, {\"value\": 22, \"prob\": 0.004126875504274278}, {\"value\": 23, \"prob\": 0.0010183000129461565}, {\"value\": 24, \"prob\": 0.0002106952662114393}, {\"value\": 25, \"prob\": 3.587221968317836e-05}, {\"value\": 26, \"prob\": 4.893810377553899e-06}, {\"value\": 27, \"prob\": 5.143225847888285e-07}, {\"value\": 28, \"prob\": 3.909228437497448e-08}, {\"value\": 29, \"prob\": 1.912560921381039e-09}, {\"value\": 30, \"prob\": 4.522579956542049e-11}]}}, {\"mode\": \"vega-lite\"});\n",
       "</script>"
      ],
      "text/plain": [
       "alt.LayerChart(...)"
      ]
     },
     "execution_count": 31,
     "metadata": {},
     "output_type": "execute_result"
    }
   ],
   "source": [
    "k_vals = range(0,31)\n",
    "k_probs = [num_people_clean * stats.binom.pmf(k = k, n = num_flips, p = 0.415) for k in k_vals]\n",
    "binom_dist_df = pd.DataFrame({\"value\": k_vals,\n",
    "                              \"prob\": k_probs})\n",
    "\n",
    "fig_2_a = (alt\n",
    "           .Chart(head_counts_clean)\n",
    "           .mark_bar()\n",
    "           .encode(alt.X(\"outcome:Q\",\n",
    "                         bin = alt.BinParams(step = 1),\n",
    "                         title = \"Number of heads\"),\n",
    "                   y = alt.Y(\"count()\",\n",
    "                            title = \"Number of occurences\")))\n",
    "\n",
    "fig_2_b = (alt\n",
    "           .Chart(binom_dist_df)\n",
    "           .mark_line(color= \"firebrick\")\n",
    "           .encode(x = \"value\", y = \"prob\"))\n",
    "\n",
    "fig_2_a + fig_2_b"
   ]
  },
  {
   "cell_type": "markdown",
   "metadata": {},
   "source": [
    "### Partial answer\n",
    "\n",
    "- After removing two outliers, we estimate the probability of heads as $0.42$ with a $95\\%$ CI of $(0.37, 0.46)$.\n",
    "- Given the CI does not contain the value 0.5, we can reject the null hypothesis that the coin is fair."
   ]
  },
  {
   "cell_type": "markdown",
   "metadata": {},
   "source": [
    "## Experimental results: flipping coins in parallel\n",
    "\n",
    "After the success of his first experiment, Mittens was lauded as a statistical wizard. The royal mint has become interested and is providing additional funds to obtain an additional 49 coins and repeat the experiment to gather more data about the fascinating topic of coin bias. Now he gives each of 50 students a coin each and asks them to flip the coin 30 times and record the results. We will help Mittens work out whether the coins are fair.\n",
    "\n",
    "### Excercise 5 part I\n",
    "\n",
    "Do we need to change anything about how we analyse this data? If so, why, if not, why not? **Hint:** there are good arguments that can be given for each answer. Once you have answered one way, try to answer the other way. "
   ]
  },
  {
   "cell_type": "markdown",
   "metadata": {},
   "source": [
    "### Partial answer\n",
    "\n",
    "If you assume the coins have the same probability of heads it is fine. If you assume that the coins vary then you would need to adjust the model."
   ]
  },
  {
   "cell_type": "markdown",
   "metadata": {},
   "source": [
    "### Exercise 5 part II\n",
    "\n",
    "Using the data in `experiment2.csv` explore the data set using the methodology devised above and write a couple of sentences to explain what you found."
   ]
  },
  {
   "cell_type": "code",
   "execution_count": 59,
   "metadata": {},
   "outputs": [
    {
     "name": "stdout",
     "output_type": "stream",
     "text": [
      "(0.4013333333333333, (0.37652739859779666, 0.42613926806887))\n"
     ]
    }
   ],
   "source": [
    "exp2 = pd.read_csv(\"experiment2.csv\")\n",
    "\n",
    "head_counts = exp2.drop(columns = \"flip_number\").groupby(\"name\").sum()\n",
    "\n",
    "head_counts[\"name\"] = head_counts.index.copy()\n",
    "\n",
    "total_heads = int(head_counts[\"outcome\"].sum())\n",
    "\n",
    "num_people = int(head_counts[\"name\"].unique().size)\n",
    "\n",
    "num_flips = int(exp2[\"name\"].value_counts().unique())\n",
    "\n",
    "wald_estimate = wald_estimate_and_ci(num_success=total_heads, \n",
    "                                     num_trials=num_people * num_flips)\n",
    "\n",
    "print(wald_estimate)"
   ]
  },
  {
   "cell_type": "markdown",
   "metadata": {},
   "source": [
    "### Exercise 5 part III\n",
    "\n",
    "Visualise the number of heads each student got and compare the variance in this to what is predicted by theory. Revise your answer to part I of this exercise."
   ]
  },
  {
   "cell_type": "code",
   "execution_count": 61,
   "metadata": {},
   "outputs": [
    {
     "name": "stdout",
     "output_type": "stream",
     "text": [
      "18.69224489795919 7.2079466666666665\n"
     ]
    },
    {
     "data": {
      "text/html": [
       "\n",
       "<div id=\"altair-viz-e4e3a0cf09ca466daa7f5793d859a9af\"></div>\n",
       "<script type=\"text/javascript\">\n",
       "  (function(spec, embedOpt){\n",
       "    let outputDiv = document.currentScript.previousElementSibling;\n",
       "    if (outputDiv.id !== \"altair-viz-e4e3a0cf09ca466daa7f5793d859a9af\") {\n",
       "      outputDiv = document.getElementById(\"altair-viz-e4e3a0cf09ca466daa7f5793d859a9af\");\n",
       "    }\n",
       "    const paths = {\n",
       "      \"vega\": \"https://cdn.jsdelivr.net/npm//vega@5?noext\",\n",
       "      \"vega-lib\": \"https://cdn.jsdelivr.net/npm//vega-lib?noext\",\n",
       "      \"vega-lite\": \"https://cdn.jsdelivr.net/npm//vega-lite@4.8.1?noext\",\n",
       "      \"vega-embed\": \"https://cdn.jsdelivr.net/npm//vega-embed@6?noext\",\n",
       "    };\n",
       "\n",
       "    function loadScript(lib) {\n",
       "      return new Promise(function(resolve, reject) {\n",
       "        var s = document.createElement('script');\n",
       "        s.src = paths[lib];\n",
       "        s.async = true;\n",
       "        s.onload = () => resolve(paths[lib]);\n",
       "        s.onerror = () => reject(`Error loading script: ${paths[lib]}`);\n",
       "        document.getElementsByTagName(\"head\")[0].appendChild(s);\n",
       "      });\n",
       "    }\n",
       "\n",
       "    function showError(err) {\n",
       "      outputDiv.innerHTML = `<div class=\"error\" style=\"color:red;\">${err}</div>`;\n",
       "      throw err;\n",
       "    }\n",
       "\n",
       "    function displayChart(vegaEmbed) {\n",
       "      vegaEmbed(outputDiv, spec, embedOpt)\n",
       "        .catch(err => showError(`Javascript Error: ${err.message}<br>This usually means there's a typo in your chart specification. See the javascript console for the full traceback.`));\n",
       "    }\n",
       "\n",
       "    if(typeof define === \"function\" && define.amd) {\n",
       "      requirejs.config({paths});\n",
       "      require([\"vega-embed\"], displayChart, err => showError(`Error loading script: ${err.message}`));\n",
       "    } else if (typeof vegaEmbed === \"function\") {\n",
       "      displayChart(vegaEmbed);\n",
       "    } else {\n",
       "      loadScript(\"vega\")\n",
       "        .then(() => loadScript(\"vega-lite\"))\n",
       "        .then(() => loadScript(\"vega-embed\"))\n",
       "        .catch(showError)\n",
       "        .then(() => displayChart(vegaEmbed));\n",
       "    }\n",
       "  })({\"config\": {\"view\": {\"continuousWidth\": 400, \"continuousHeight\": 300}}, \"data\": {\"name\": \"data-6848c08f6b43d814c683ff191c0a1025\"}, \"mark\": \"point\", \"encoding\": {\"x\": {\"type\": \"quantitative\", \"field\": \"name\"}, \"y\": {\"type\": \"quantitative\", \"field\": \"outcome\"}}, \"$schema\": \"https://vega.github.io/schema/vega-lite/v4.8.1.json\", \"datasets\": {\"data-6848c08f6b43d814c683ff191c0a1025\": [{\"outcome\": 7, \"name\": 0}, {\"outcome\": 7, \"name\": 1}, {\"outcome\": 4, \"name\": 2}, {\"outcome\": 7, \"name\": 3}, {\"outcome\": 4, \"name\": 4}, {\"outcome\": 4, \"name\": 5}, {\"outcome\": 10, \"name\": 6}, {\"outcome\": 7, \"name\": 7}, {\"outcome\": 11, \"name\": 8}, {\"outcome\": 3, \"name\": 9}, {\"outcome\": 12, \"name\": 10}, {\"outcome\": 10, \"name\": 11}, {\"outcome\": 12, \"name\": 12}, {\"outcome\": 12, \"name\": 13}, {\"outcome\": 9, \"name\": 14}, {\"outcome\": 14, \"name\": 15}, {\"outcome\": 9, \"name\": 16}, {\"outcome\": 6, \"name\": 17}, {\"outcome\": 9, \"name\": 18}, {\"outcome\": 10, \"name\": 19}, {\"outcome\": 13, \"name\": 20}, {\"outcome\": 15, \"name\": 21}, {\"outcome\": 10, \"name\": 22}, {\"outcome\": 15, \"name\": 23}, {\"outcome\": 12, \"name\": 24}, {\"outcome\": 13, \"name\": 25}, {\"outcome\": 15, \"name\": 26}, {\"outcome\": 15, \"name\": 27}, {\"outcome\": 8, \"name\": 28}, {\"outcome\": 9, \"name\": 29}, {\"outcome\": 13, \"name\": 30}, {\"outcome\": 11, \"name\": 31}, {\"outcome\": 13, \"name\": 32}, {\"outcome\": 13, \"name\": 33}, {\"outcome\": 19, \"name\": 34}, {\"outcome\": 16, \"name\": 35}, {\"outcome\": 20, \"name\": 36}, {\"outcome\": 16, \"name\": 37}, {\"outcome\": 17, \"name\": 38}, {\"outcome\": 11, \"name\": 39}, {\"outcome\": 17, \"name\": 40}, {\"outcome\": 11, \"name\": 41}, {\"outcome\": 16, \"name\": 42}, {\"outcome\": 15, \"name\": 43}, {\"outcome\": 15, \"name\": 44}, {\"outcome\": 18, \"name\": 45}, {\"outcome\": 15, \"name\": 46}, {\"outcome\": 16, \"name\": 47}, {\"outcome\": 18, \"name\": 48}, {\"outcome\": 20, \"name\": 49}]}}, {\"mode\": \"vega-lite\"});\n",
       "</script>"
      ],
      "text/plain": [
       "alt.Chart(...)"
      ]
     },
     "execution_count": 61,
     "metadata": {},
     "output_type": "execute_result"
    }
   ],
   "source": [
    "emp_var = head_counts[\"outcome\"].var()\n",
    "thry_var = stats.binom.var(n = num_flips, p = wald_estimate[0])\n",
    "\n",
    "print(emp_var,thry_var)\n",
    "\n",
    "alt.Chart(head_counts).mark_point().encode(\n",
    "    x = \"name\",\n",
    "    y = \"outcome\"\n",
    ")"
   ]
  },
  {
   "cell_type": "markdown",
   "metadata": {},
   "source": [
    "### Partial answer\n",
    "\n",
    "- There appears to be systematic differences in the number of heads obtained.\n",
    "- The variance is too great.\n",
    "- It seems that we should not consider all the coins as identical.\n",
    "\n"
   ]
  },
  {
   "cell_type": "markdown",
   "metadata": {},
   "source": [
    "### Exercise 5 part IV (Extension)\n",
    "\n",
    "Consider how you might analyse this data. Over the following weeks you will learn a couple of approaches."
   ]
  },
  {
   "cell_type": "markdown",
   "metadata": {},
   "source": [
    "### Partial answer\n",
    "\n",
    "One could use a negative binomial distribution if one were interested in an empirical analysis or a hierarchical model if one were interested in a structural analysis."
   ]
  },
  {
   "cell_type": "markdown",
   "metadata": {},
   "source": [
    "## Epilogue\n",
    "\n",
    "Professor Mittens' work was published in a top tier journal and he was lauded as a statistical wizard. Rumour has it he will soon be elected to the British Acadmey."
   ]
  }
 ],
 "metadata": {
  "kernelspec": {
   "display_name": "Python 3",
   "language": "python",
   "name": "python3"
  },
  "language_info": {
   "codemirror_mode": {
    "name": "ipython",
    "version": 3
   },
   "file_extension": ".py",
   "mimetype": "text/x-python",
   "name": "python",
   "nbconvert_exporter": "python",
   "pygments_lexer": "ipython3",
   "version": "3.8.3"
  }
 },
 "nbformat": 4,
 "nbformat_minor": 4
}
