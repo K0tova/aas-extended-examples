{
 "cells": [
  {
   "cell_type": "markdown",
   "metadata": {},
   "source": [
    "# Linear regression with Professor Mittens, a.k.a. recipe for linear regression.\n",
    "\n",
    "## Overview\n",
    "\n",
    "In this notebook we will learn how to use regression to study the factors that affect the number of pats cats will recieve. This will start with a visual inspection of the data, followed by the development of a linear model to explain the data. Along the way we will answer a few questions such as: does coat colour influence the number of pats, is a long coat better than a short coat, and how important is the volume of a meow.\n",
    "\n",
    "## Specifying regression models\n",
    "\n",
    "A very popular way to describe regression models is with \"formulae\" as popularised by R. The [R documentation on formulae](https://cran.r-project.org/doc/manuals/R-intro.html#Formulae-for-statistical-models) is a good place to learn how to use these properly. For example, here is the syntax we will use today,\n",
    "\n",
    "- `y ~ x1 + x2` will make a linear model with the predictors $x_1$ and $x_2$.\n",
    "- `y ~ x1 * x2` includes the terms $x_1 + x_2 + x_1x_2$\n",
    "- `y ~ x1 : x2` includes *just* the interaction term $x_1x_2$\n",
    "- `y ~ C(x)` specifies that $x$ is a catagorical variable **NOTE** this is not necessary in R."
   ]
  },
  {
   "cell_type": "code",
   "execution_count": 2,
   "metadata": {},
   "outputs": [],
   "source": [
    "%matplotlib inline\n",
    "import pandas as pd\n",
    "import numpy as np\n",
    "import statsmodels.api as sm\n",
    "import statsmodels.formula.api as smf\n",
    "import altair as alt\n",
    "from functools import reduce"
   ]
  },
  {
   "cell_type": "markdown",
   "metadata": {},
   "source": [
    "## Helping cats get more pats\n",
    "\n",
    "Professor Mittens in interested in helping cats optimise the number of pats they can get. To learn more about this, he has interviewed 1000 cats and taken measurements of their behaviour and appearance. The data in `cat-pats.csv` contains measurments of the following:\n",
    "\n",
    "- `time_outdoors` is the number of hours that the cat is out of their primary dwelling,\n",
    "- `coat_colour` is either tortoiseshell, white, or \"other\" encoded as integers 1, 2, and 3 respectively,\n",
    "- `weight` is the weight of the cat in kilograms,\n",
    "- `height` is their height in centimeters,\n",
    "- `loudness` is a measure of how loud their meow is, the units are not known,\n",
    "- `whisker_length` is the length of their whiskers in centimeters,\n",
    "- `is_longhaired` is a Boolean variable equal to 1 if the cat is of a longhaired breed and 0 if it is of a shorthaired breed,\n",
    "- `coat_length` is the length of their fur in centimeters,\n",
    "- and `num_pats` is the number of pats they received on the day they were interviewed.\n",
    "\n",
    "The variable we are interested in explaining is `num_pats`. Although this is a discrete variable, we will ignore this aspect of the data and consider it as a continuous value. This is a useful simplifying assumption, as you learn more about regression, in particular generalized linear models, you will see additional ways to handle this. For this example, you can consider it a continuous variable though.\n",
    "\n",
    "The types of questions that Professor Mittens is interested in answering are as follows:\n",
    "\n",
    "1. Do any of the variables correlate with the number of pats that the cats recieve?\n",
    "2. Under a naive model, how much of the variability in pats can they explain? Do all the variables need to be included?\n",
    "3. Does the coat colour matter?\n",
    "4. Among short-haired breeds they say longer hair is better, among long-haired breeds they say short hair is better, who is correct?\n",
    "5. **If a cat can choose to spend more time outdoors, or practise meowing louder, which will get them more pats?**"
   ]
  },
  {
   "cell_type": "markdown",
   "metadata": {},
   "source": [
    "### Read in the data and generate some scatter plots to see if there are any good predictors of the number of pats\n",
    "\n",
    "The data is in the file `cat-pats.csv` so read this into a data frame using `pd.read_csv` and go from there. I have used altair to generate my scatter plots based on [this example](https://altair-viz.github.io/gallery/scatter_matrix.html) but you can use whatever you feel most comfortable with. It might be useful to use colour to see if `coat_colour` and `is_longhaired` are important. \n",
    "\n",
    "### Question\n",
    "\n",
    "Based on these figures, what variables appear to relate to the number of pats? What do you notice about the catagorical variables `coat_colour` and `is_longhaired`?"
   ]
  },
  {
   "cell_type": "code",
   "execution_count": 14,
   "metadata": {},
   "outputs": [],
   "source": [
    "import seaborn as sns\n",
    "import matplotlib.pyplot as plt"
   ]
  },
  {
   "cell_type": "code",
   "execution_count": 15,
   "metadata": {},
   "outputs": [],
   "source": [
    "cats = pd.read_csv(\"cat-pats.csv\")"
   ]
  },
  {
   "cell_type": "code",
   "execution_count": 18,
   "metadata": {},
   "outputs": [
    {
     "name": "stderr",
     "output_type": "stream",
     "text": [
      "/opt/anaconda3/lib/python3.8/site-packages/seaborn/_decorators.py:36: FutureWarning: Pass the following variables as keyword args: x, y. From version 0.12, the only valid positional argument will be `data`, and passing other arguments without an explicit keyword will result in an error or misinterpretation.\n",
      "  warnings.warn(\n"
     ]
    },
    {
     "data": {
      "image/png": "[encoded data removed]",
      "text/plain": [
       "<Figure size 432x288 with 1 Axes>"
      ]
     },
     "metadata": {
      "needs_background": "light"
     },
     "output_type": "display_data"
    }
   ],
   "source": [
    "fig = sns.pairplot(cats[\"coat_colour\"], cats[\"num_pats\"])"
   ]
  },
  {
   "cell_type": "markdown",
   "metadata": {},
   "source": [
    "### Compute the correlation between each variable and the number of pats, what looks important\n",
    "\n",
    "### Question\n",
    "\n",
    "Does the the correlation matrix raise any further questions? Does it handle the catagorical variables correctly?"
   ]
  },
  {
   "cell_type": "code",
   "execution_count": 20,
   "metadata": {},
   "outputs": [
    {
     "data": {
      "text/html": [
       "<div>\n",
       "<style scoped>\n",
       "    .dataframe tbody tr th:only-of-type {\n",
       "        vertical-align: middle;\n",
       "    }\n",
       "\n",
       "    .dataframe tbody tr th {\n",
       "        vertical-align: top;\n",
       "    }\n",
       "\n",
       "    .dataframe thead th {\n",
       "        text-align: right;\n",
       "    }\n",
       "</style>\n",
       "<table border=\"1\" class=\"dataframe\">\n",
       "  <thead>\n",
       "    <tr style=\"text-align: right;\">\n",
       "      <th></th>\n",
       "      <th>time_outdoors</th>\n",
       "      <th>coat_colour</th>\n",
       "      <th>weight</th>\n",
       "      <th>height</th>\n",
       "      <th>loudness</th>\n",
       "      <th>whisker_length</th>\n",
       "      <th>is_longhaired</th>\n",
       "      <th>coat_length</th>\n",
       "      <th>num_pats</th>\n",
       "    </tr>\n",
       "  </thead>\n",
       "  <tbody>\n",
       "    <tr>\n",
       "      <th>time_outdoors</th>\n",
       "      <td>1.000000</td>\n",
       "      <td>0.011325</td>\n",
       "      <td>0.020449</td>\n",
       "      <td>-0.018438</td>\n",
       "      <td>0.029064</td>\n",
       "      <td>0.033036</td>\n",
       "      <td>-0.007209</td>\n",
       "      <td>-0.023776</td>\n",
       "      <td>0.408470</td>\n",
       "    </tr>\n",
       "    <tr>\n",
       "      <th>coat_colour</th>\n",
       "      <td>0.011325</td>\n",
       "      <td>1.000000</td>\n",
       "      <td>0.048857</td>\n",
       "      <td>0.004303</td>\n",
       "      <td>0.067005</td>\n",
       "      <td>0.027979</td>\n",
       "      <td>0.034950</td>\n",
       "      <td>0.044578</td>\n",
       "      <td>0.351635</td>\n",
       "    </tr>\n",
       "    <tr>\n",
       "      <th>weight</th>\n",
       "      <td>0.020449</td>\n",
       "      <td>0.048857</td>\n",
       "      <td>1.000000</td>\n",
       "      <td>0.020759</td>\n",
       "      <td>0.037379</td>\n",
       "      <td>0.040600</td>\n",
       "      <td>0.001120</td>\n",
       "      <td>-0.003659</td>\n",
       "      <td>0.078798</td>\n",
       "    </tr>\n",
       "    <tr>\n",
       "      <th>height</th>\n",
       "      <td>-0.018438</td>\n",
       "      <td>0.004303</td>\n",
       "      <td>0.020759</td>\n",
       "      <td>1.000000</td>\n",
       "      <td>0.015115</td>\n",
       "      <td>0.731840</td>\n",
       "      <td>0.017102</td>\n",
       "      <td>-0.004469</td>\n",
       "      <td>0.109457</td>\n",
       "    </tr>\n",
       "    <tr>\n",
       "      <th>loudness</th>\n",
       "      <td>0.029064</td>\n",
       "      <td>0.067005</td>\n",
       "      <td>0.037379</td>\n",
       "      <td>0.015115</td>\n",
       "      <td>1.000000</td>\n",
       "      <td>0.543422</td>\n",
       "      <td>0.013643</td>\n",
       "      <td>0.016147</td>\n",
       "      <td>0.075420</td>\n",
       "    </tr>\n",
       "    <tr>\n",
       "      <th>whisker_length</th>\n",
       "      <td>0.033036</td>\n",
       "      <td>0.027979</td>\n",
       "      <td>0.040600</td>\n",
       "      <td>0.731840</td>\n",
       "      <td>0.543422</td>\n",
       "      <td>1.000000</td>\n",
       "      <td>0.004634</td>\n",
       "      <td>-0.006210</td>\n",
       "      <td>0.140842</td>\n",
       "    </tr>\n",
       "    <tr>\n",
       "      <th>is_longhaired</th>\n",
       "      <td>-0.007209</td>\n",
       "      <td>0.034950</td>\n",
       "      <td>0.001120</td>\n",
       "      <td>0.017102</td>\n",
       "      <td>0.013643</td>\n",
       "      <td>0.004634</td>\n",
       "      <td>1.000000</td>\n",
       "      <td>0.788381</td>\n",
       "      <td>-0.497761</td>\n",
       "    </tr>\n",
       "    <tr>\n",
       "      <th>coat_length</th>\n",
       "      <td>-0.023776</td>\n",
       "      <td>0.044578</td>\n",
       "      <td>-0.003659</td>\n",
       "      <td>-0.004469</td>\n",
       "      <td>0.016147</td>\n",
       "      <td>-0.006210</td>\n",
       "      <td>0.788381</td>\n",
       "      <td>1.000000</td>\n",
       "      <td>-0.416950</td>\n",
       "    </tr>\n",
       "    <tr>\n",
       "      <th>num_pats</th>\n",
       "      <td>0.408470</td>\n",
       "      <td>0.351635</td>\n",
       "      <td>0.078798</td>\n",
       "      <td>0.109457</td>\n",
       "      <td>0.075420</td>\n",
       "      <td>0.140842</td>\n",
       "      <td>-0.497761</td>\n",
       "      <td>-0.416950</td>\n",
       "      <td>1.000000</td>\n",
       "    </tr>\n",
       "  </tbody>\n",
       "</table>\n",
       "</div>"
      ],
      "text/plain": [
       "                time_outdoors  coat_colour    weight    height  loudness  \\\n",
       "time_outdoors        1.000000     0.011325  0.020449 -0.018438  0.029064   \n",
       "coat_colour          0.011325     1.000000  0.048857  0.004303  0.067005   \n",
       "weight               0.020449     0.048857  1.000000  0.020759  0.037379   \n",
       "height              -0.018438     0.004303  0.020759  1.000000  0.015115   \n",
       "loudness             0.029064     0.067005  0.037379  0.015115  1.000000   \n",
       "whisker_length       0.033036     0.027979  0.040600  0.731840  0.543422   \n",
       "is_longhaired       -0.007209     0.034950  0.001120  0.017102  0.013643   \n",
       "coat_length         -0.023776     0.044578 -0.003659 -0.004469  0.016147   \n",
       "num_pats             0.408470     0.351635  0.078798  0.109457  0.075420   \n",
       "\n",
       "                whisker_length  is_longhaired  coat_length  num_pats  \n",
       "time_outdoors         0.033036      -0.007209    -0.023776  0.408470  \n",
       "coat_colour           0.027979       0.034950     0.044578  0.351635  \n",
       "weight                0.040600       0.001120    -0.003659  0.078798  \n",
       "height                0.731840       0.017102    -0.004469  0.109457  \n",
       "loudness              0.543422       0.013643     0.016147  0.075420  \n",
       "whisker_length        1.000000       0.004634    -0.006210  0.140842  \n",
       "is_longhaired         0.004634       1.000000     0.788381 -0.497761  \n",
       "coat_length          -0.006210       0.788381     1.000000 -0.416950  \n",
       "num_pats              0.140842      -0.497761    -0.416950  1.000000  "
      ]
     },
     "execution_count": 20,
     "metadata": {},
     "output_type": "execute_result"
    }
   ],
   "source": [
    "cats.corr()"
   ]
  },
  {
   "cell_type": "markdown",
   "metadata": {},
   "source": [
    "### What is $R^2$?\n",
    "\n",
    "Sometimes called the *coefficient of determination*, this statistic measures the proportion of the variance in the response variable that is explained by the regression model. In the case of simple linear regression it is just the correlation squared, it can also be calculated as the ratio of the regression sum of squares and the total sum of squares. \n",
    "\n",
    "$$\n",
    "R^2 = \\frac{\\text{RegSS}}{\\text{TSS}}\n",
    "$$\n",
    "\n",
    "It can be thought of as the proportion of the total variance that is explained by the regression model.\n",
    "\n",
    "### What is an *adjusted* $R^2$?\n",
    "\n",
    "For a fixed number of observations, as the number of covariates increases you can get explain as much of the variability as you want! The adjusted $R^2$ is a way to penalise using too many covariates. The adjusted $R^2$ for a model with $n$ observations and $p$ coefficients is given by the following:\n",
    "\n",
    "$$\n",
    "\\tilde{R}^2 = 1 - \\frac{n - 1}{n - p}\\left(1 - R^2\\right)\n",
    "$$\n",
    "\n",
    "### Under a naive model, how much of the variability in pats can they explain?\n",
    "\n",
    "Run an ordinary linear regression with all of the variables and see what percentage of the variability in the number of pats is explained. Make sure that you have used the catagorical variables correctly. Can be be confident in rejecting the null hypothesis that none of these variables is associated with the number of pats received?"
   ]
  },
  {
   "cell_type": "markdown",
   "metadata": {},
   "source": [
    "### Question: Is colinearity an issue in this model? Do all of the variables need to be included?\n",
    "\n",
    "Compute the VIF to see if there is a concerning amount of colinearity between any of the covariates."
   ]
  },
  {
   "cell_type": "markdown",
   "metadata": {},
   "source": [
    "### Does coat colour matter?\n",
    "\n",
    "1. Make a box plot of the number of pats by coat colour to see this pattern.\n",
    "2. Fit an additional linear model without the coat colour as a covariate to see how much of the explained variability comes from the inclusion of coat colour in the model."
   ]
  },
  {
   "cell_type": "markdown",
   "metadata": {},
   "source": [
    "### Among short-haired breeds they say longer hair is better, among long-haired breeds they say short hair is better, who is correct?\n",
    "\n",
    "Since in the figures above we saw that the breed longhaired/shorthaired appears to separate the data, it may be useful to consider different models on each subset. Fit a linear model to each subset of the data and see that the effect of the coat length is in each case."
   ]
  },
  {
   "cell_type": "markdown",
   "metadata": {},
   "source": [
    "### Fit a model with an interacion term between the coat length and the long/shorthaired breed\n",
    "\n",
    "What does this tell us about the age old debate about cat hair length?"
   ]
  },
  {
   "cell_type": "markdown",
   "metadata": {},
   "source": [
    "### How else could we handle coat length?\n",
    "\n",
    "We could instead have included quadratic terms for coat length to see if this was a better way to explain the non-linear effect."
   ]
  },
  {
   "cell_type": "markdown",
   "metadata": {},
   "source": [
    "### Shouldn't we check for influential points?\n",
    "\n",
    "We can generate a plot of the studentized residuals and the leverage to check if there are any influential points.\n",
    "\n",
    "If there is a potential outlier, does removing it change anything?"
   ]
  },
  {
   "cell_type": "markdown",
   "metadata": {},
   "source": [
    "### Should a cat practise meowing or just spend more time outdoors to get more pats?\n",
    "\n",
    "We can just look at the coefficients to see that a much more efficient way to get pats is to be outside, the relationship between loudness and number of pats is not supported by this data set."
   ]
  },
  {
   "cell_type": "code",
   "execution_count": null,
   "metadata": {},
   "outputs": [],
   "source": []
  }
 ],
 "metadata": {
  "kernelspec": {
   "display_name": "Python 3",
   "language": "python",
   "name": "python3"
  },
  "language_info": {
   "codemirror_mode": {
    "name": "ipython",
    "version": 3
   },
   "file_extension": ".py",
   "mimetype": "text/x-python",
   "name": "python",
   "nbconvert_exporter": "python",
   "pygments_lexer": "ipython3",
   "version": "3.8.3"
  }
 },
 "nbformat": 4,
 "nbformat_minor": 4
}
